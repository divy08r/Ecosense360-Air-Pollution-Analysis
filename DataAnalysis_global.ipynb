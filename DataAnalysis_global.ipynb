{
 "cells": [
  {
   "cell_type": "code",
   "execution_count": 2,
   "metadata": {},
   "outputs": [],
   "source": [
    "import numpy as np\n",
    "import pandas as pd\n",
    "import seaborn as sns\n",
    "import matplotlib.pyplot as plt\n",
    "import plotly.express as px"
   ]
  },
  {
   "cell_type": "code",
   "execution_count": 3,
   "metadata": {},
   "outputs": [
    {
     "data": {
      "text/html": [
       "<div>\n",
       "<style scoped>\n",
       "    .dataframe tbody tr th:only-of-type {\n",
       "        vertical-align: middle;\n",
       "    }\n",
       "\n",
       "    .dataframe tbody tr th {\n",
       "        vertical-align: top;\n",
       "    }\n",
       "\n",
       "    .dataframe thead th {\n",
       "        text-align: right;\n",
       "    }\n",
       "</style>\n",
       "<table border=\"1\" class=\"dataframe\">\n",
       "  <thead>\n",
       "    <tr style=\"text-align: right;\">\n",
       "      <th></th>\n",
       "      <th>Country</th>\n",
       "      <th>City</th>\n",
       "      <th>AQI Value</th>\n",
       "      <th>AQI Category</th>\n",
       "      <th>CO AQI Value</th>\n",
       "      <th>CO AQI Category</th>\n",
       "      <th>Ozone AQI Value</th>\n",
       "      <th>Ozone AQI Category</th>\n",
       "      <th>NO2 AQI Value</th>\n",
       "      <th>NO2 AQI Category</th>\n",
       "      <th>PM2.5 AQI Value</th>\n",
       "      <th>PM2.5 AQI Category</th>\n",
       "    </tr>\n",
       "  </thead>\n",
       "  <tbody>\n",
       "    <tr>\n",
       "      <th>0</th>\n",
       "      <td>Russian Federation</td>\n",
       "      <td>Praskoveya</td>\n",
       "      <td>51</td>\n",
       "      <td>Moderate</td>\n",
       "      <td>1</td>\n",
       "      <td>Good</td>\n",
       "      <td>36</td>\n",
       "      <td>Good</td>\n",
       "      <td>0</td>\n",
       "      <td>Good</td>\n",
       "      <td>51</td>\n",
       "      <td>Moderate</td>\n",
       "    </tr>\n",
       "    <tr>\n",
       "      <th>1</th>\n",
       "      <td>Brazil</td>\n",
       "      <td>Presidente Dutra</td>\n",
       "      <td>41</td>\n",
       "      <td>Good</td>\n",
       "      <td>1</td>\n",
       "      <td>Good</td>\n",
       "      <td>5</td>\n",
       "      <td>Good</td>\n",
       "      <td>1</td>\n",
       "      <td>Good</td>\n",
       "      <td>41</td>\n",
       "      <td>Good</td>\n",
       "    </tr>\n",
       "    <tr>\n",
       "      <th>2</th>\n",
       "      <td>Italy</td>\n",
       "      <td>Priolo Gargallo</td>\n",
       "      <td>66</td>\n",
       "      <td>Moderate</td>\n",
       "      <td>1</td>\n",
       "      <td>Good</td>\n",
       "      <td>39</td>\n",
       "      <td>Good</td>\n",
       "      <td>2</td>\n",
       "      <td>Good</td>\n",
       "      <td>66</td>\n",
       "      <td>Moderate</td>\n",
       "    </tr>\n",
       "    <tr>\n",
       "      <th>3</th>\n",
       "      <td>Poland</td>\n",
       "      <td>Przasnysz</td>\n",
       "      <td>34</td>\n",
       "      <td>Good</td>\n",
       "      <td>1</td>\n",
       "      <td>Good</td>\n",
       "      <td>34</td>\n",
       "      <td>Good</td>\n",
       "      <td>0</td>\n",
       "      <td>Good</td>\n",
       "      <td>20</td>\n",
       "      <td>Good</td>\n",
       "    </tr>\n",
       "  </tbody>\n",
       "</table>\n",
       "</div>"
      ],
      "text/plain": [
       "              Country              City  AQI Value AQI Category  CO AQI Value  \\\n",
       "0  Russian Federation        Praskoveya         51     Moderate             1   \n",
       "1              Brazil  Presidente Dutra         41         Good             1   \n",
       "2               Italy   Priolo Gargallo         66     Moderate             1   \n",
       "3              Poland         Przasnysz         34         Good             1   \n",
       "\n",
       "  CO AQI Category  Ozone AQI Value Ozone AQI Category  NO2 AQI Value  \\\n",
       "0            Good               36               Good              0   \n",
       "1            Good                5               Good              1   \n",
       "2            Good               39               Good              2   \n",
       "3            Good               34               Good              0   \n",
       "\n",
       "  NO2 AQI Category  PM2.5 AQI Value PM2.5 AQI Category  \n",
       "0             Good               51           Moderate  \n",
       "1             Good               41               Good  \n",
       "2             Good               66           Moderate  \n",
       "3             Good               20               Good  "
      ]
     },
     "execution_count": 3,
     "metadata": {},
     "output_type": "execute_result"
    }
   ],
   "source": [
    "global_data = pd.read_csv(\"./global air pollution dataset.csv\")\n",
    "global_data.head(4)\n"
   ]
  },
  {
   "cell_type": "code",
   "execution_count": 4,
   "metadata": {},
   "outputs": [
    {
     "data": {
      "text/html": [
       "<div>\n",
       "<style scoped>\n",
       "    .dataframe tbody tr th:only-of-type {\n",
       "        vertical-align: middle;\n",
       "    }\n",
       "\n",
       "    .dataframe tbody tr th {\n",
       "        vertical-align: top;\n",
       "    }\n",
       "\n",
       "    .dataframe thead th {\n",
       "        text-align: right;\n",
       "    }\n",
       "</style>\n",
       "<table border=\"1\" class=\"dataframe\">\n",
       "  <thead>\n",
       "    <tr style=\"text-align: right;\">\n",
       "      <th></th>\n",
       "      <th>Country</th>\n",
       "      <th>AQI Value</th>\n",
       "    </tr>\n",
       "  </thead>\n",
       "  <tbody>\n",
       "    <tr>\n",
       "      <th>14768</th>\n",
       "      <td>Afghanistan</td>\n",
       "      <td>198</td>\n",
       "    </tr>\n",
       "    <tr>\n",
       "      <th>12144</th>\n",
       "      <td>Albania</td>\n",
       "      <td>67</td>\n",
       "    </tr>\n",
       "    <tr>\n",
       "      <th>18073</th>\n",
       "      <td>Algeria</td>\n",
       "      <td>126</td>\n",
       "    </tr>\n",
       "    <tr>\n",
       "      <th>10452</th>\n",
       "      <td>Andorra</td>\n",
       "      <td>29</td>\n",
       "    </tr>\n",
       "    <tr>\n",
       "      <th>20417</th>\n",
       "      <td>Angola</td>\n",
       "      <td>131</td>\n",
       "    </tr>\n",
       "    <tr>\n",
       "      <th>...</th>\n",
       "      <td>...</td>\n",
       "      <td>...</td>\n",
       "    </tr>\n",
       "    <tr>\n",
       "      <th>13267</th>\n",
       "      <td>Venezuela (Bolivarian Republic of)</td>\n",
       "      <td>150</td>\n",
       "    </tr>\n",
       "    <tr>\n",
       "      <th>4528</th>\n",
       "      <td>Viet Nam</td>\n",
       "      <td>59</td>\n",
       "    </tr>\n",
       "    <tr>\n",
       "      <th>18698</th>\n",
       "      <td>Yemen</td>\n",
       "      <td>156</td>\n",
       "    </tr>\n",
       "    <tr>\n",
       "      <th>15427</th>\n",
       "      <td>Zambia</td>\n",
       "      <td>42</td>\n",
       "    </tr>\n",
       "    <tr>\n",
       "      <th>5390</th>\n",
       "      <td>Zimbabwe</td>\n",
       "      <td>52</td>\n",
       "    </tr>\n",
       "  </tbody>\n",
       "</table>\n",
       "<p>175 rows × 2 columns</p>\n",
       "</div>"
      ],
      "text/plain": [
       "                                  Country  AQI Value\n",
       "14768                         Afghanistan        198\n",
       "12144                             Albania         67\n",
       "18073                             Algeria        126\n",
       "10452                             Andorra         29\n",
       "20417                              Angola        131\n",
       "...                                   ...        ...\n",
       "13267  Venezuela (Bolivarian Republic of)        150\n",
       "4528                             Viet Nam         59\n",
       "18698                               Yemen        156\n",
       "15427                              Zambia         42\n",
       "5390                             Zimbabwe         52\n",
       "\n",
       "[175 rows x 2 columns]"
      ]
     },
     "execution_count": 4,
     "metadata": {},
     "output_type": "execute_result"
    }
   ],
   "source": [
    "global_data.sort_values(['Country'] , inplace=True)\n",
    "global_high_aqi = global_data.drop_duplicates(subset = ['Country'], keep = 'first')\n",
    "series = ['Country' , 'AQI Value']\n",
    "global_high_aqi_country_AQI = global_high_aqi[series].copy()\n",
    "global_high_aqi_country_AQI.dropna(inplace=True)\n",
    "global_high_aqi_country_AQI"
   ]
  },
  {
   "cell_type": "code",
   "execution_count": 5,
   "metadata": {},
   "outputs": [
    {
     "data": {
      "application/vnd.plotly.v1+json": {
       "config": {
        "plotlyServerURL": "https://plot.ly"
       },
       "data": [
        {
         "geo": "geo",
         "hovertemplate": "Country=%{location}<br>AQI Value=%{marker.size}<extra></extra>",
         "legendgroup": "Afghanistan",
         "locationmode": "country names",
         "locations": [
          "Afghanistan"
         ],
         "marker": {
          "color": "#636efa",
          "size": [
           198
          ],
          "sizemode": "area",
          "sizeref": 1.0525,
          "symbol": "circle"
         },
         "mode": "markers",
         "name": "Afghanistan",
         "showlegend": true,
         "type": "scattergeo"
        },
        {
         "geo": "geo",
         "hovertemplate": "Country=%{location}<br>AQI Value=%{marker.size}<extra></extra>",
         "legendgroup": "Albania",
         "locationmode": "country names",
         "locations": [
          "Albania"
         ],
         "marker": {
          "color": "#EF553B",
          "size": [
           67
          ],
          "sizemode": "area",
          "sizeref": 1.0525,
          "symbol": "circle"
         },
         "mode": "markers",
         "name": "Albania",
         "showlegend": true,
         "type": "scattergeo"
        },
        {
         "geo": "geo",
         "hovertemplate": "Country=%{location}<br>AQI Value=%{marker.size}<extra></extra>",
         "legendgroup": "Algeria",
         "locationmode": "country names",
         "locations": [
          "Algeria"
         ],
         "marker": {
          "color": "#00cc96",
          "size": [
           126
          ],
          "sizemode": "area",
          "sizeref": 1.0525,
          "symbol": "circle"
         },
         "mode": "markers",
         "name": "Algeria",
         "showlegend": true,
         "type": "scattergeo"
        },
        {
         "geo": "geo",
         "hovertemplate": "Country=%{location}<br>AQI Value=%{marker.size}<extra></extra>",
         "legendgroup": "Andorra",
         "locationmode": "country names",
         "locations": [
          "Andorra"
         ],
         "marker": {
          "color": "#ab63fa",
          "size": [
           29
          ],
          "sizemode": "area",
          "sizeref": 1.0525,
          "symbol": "circle"
         },
         "mode": "markers",
         "name": "Andorra",
         "showlegend": true,
         "type": "scattergeo"
        },
        {
         "geo": "geo",
         "hovertemplate": "Country=%{location}<br>AQI Value=%{marker.size}<extra></extra>",
         "legendgroup": "Angola",
         "locationmode": "country names",
         "locations": [
          "Angola"
         ],
         "marker": {
          "color": "#FFA15A",
          "size": [
           131
          ],
          "sizemode": "area",
          "sizeref": 1.0525,
          "symbol": "circle"
         },
         "mode": "markers",
         "name": "Angola",
         "showlegend": true,
         "type": "scattergeo"
        },
        {
         "geo": "geo",
         "hovertemplate": "Country=%{location}<br>AQI Value=%{marker.size}<extra></extra>",
         "legendgroup": "Argentina",
         "locationmode": "country names",
         "locations": [
          "Argentina"
         ],
         "marker": {
          "color": "#19d3f3",
          "size": [
           41
          ],
          "sizemode": "area",
          "sizeref": 1.0525,
          "symbol": "circle"
         },
         "mode": "markers",
         "name": "Argentina",
         "showlegend": true,
         "type": "scattergeo"
        },
        {
         "geo": "geo",
         "hovertemplate": "Country=%{location}<br>AQI Value=%{marker.size}<extra></extra>",
         "legendgroup": "Armenia",
         "locationmode": "country names",
         "locations": [
          "Armenia"
         ],
         "marker": {
          "color": "#FF6692",
          "size": [
           30
          ],
          "sizemode": "area",
          "sizeref": 1.0525,
          "symbol": "circle"
         },
         "mode": "markers",
         "name": "Armenia",
         "showlegend": true,
         "type": "scattergeo"
        },
        {
         "geo": "geo",
         "hovertemplate": "Country=%{location}<br>AQI Value=%{marker.size}<extra></extra>",
         "legendgroup": "Aruba",
         "locationmode": "country names",
         "locations": [
          "Aruba"
         ],
         "marker": {
          "color": "#B6E880",
          "size": [
           163
          ],
          "sizemode": "area",
          "sizeref": 1.0525,
          "symbol": "circle"
         },
         "mode": "markers",
         "name": "Aruba",
         "showlegend": true,
         "type": "scattergeo"
        },
        {
         "geo": "geo",
         "hovertemplate": "Country=%{location}<br>AQI Value=%{marker.size}<extra></extra>",
         "legendgroup": "Australia",
         "locationmode": "country names",
         "locations": [
          "Australia"
         ],
         "marker": {
          "color": "#FF97FF",
          "size": [
           24
          ],
          "sizemode": "area",
          "sizeref": 1.0525,
          "symbol": "circle"
         },
         "mode": "markers",
         "name": "Australia",
         "showlegend": true,
         "type": "scattergeo"
        },
        {
         "geo": "geo",
         "hovertemplate": "Country=%{location}<br>AQI Value=%{marker.size}<extra></extra>",
         "legendgroup": "Austria",
         "locationmode": "country names",
         "locations": [
          "Austria"
         ],
         "marker": {
          "color": "#FECB52",
          "size": [
           44
          ],
          "sizemode": "area",
          "sizeref": 1.0525,
          "symbol": "circle"
         },
         "mode": "markers",
         "name": "Austria",
         "showlegend": true,
         "type": "scattergeo"
        },
        {
         "geo": "geo",
         "hovertemplate": "Country=%{location}<br>AQI Value=%{marker.size}<extra></extra>",
         "legendgroup": "Azerbaijan",
         "locationmode": "country names",
         "locations": [
          "Azerbaijan"
         ],
         "marker": {
          "color": "#636efa",
          "size": [
           95
          ],
          "sizemode": "area",
          "sizeref": 1.0525,
          "symbol": "circle"
         },
         "mode": "markers",
         "name": "Azerbaijan",
         "showlegend": true,
         "type": "scattergeo"
        },
        {
         "geo": "geo",
         "hovertemplate": "Country=%{location}<br>AQI Value=%{marker.size}<extra></extra>",
         "legendgroup": "Bahrain",
         "locationmode": "country names",
         "locations": [
          "Bahrain"
         ],
         "marker": {
          "color": "#EF553B",
          "size": [
           188
          ],
          "sizemode": "area",
          "sizeref": 1.0525,
          "symbol": "circle"
         },
         "mode": "markers",
         "name": "Bahrain",
         "showlegend": true,
         "type": "scattergeo"
        },
        {
         "geo": "geo",
         "hovertemplate": "Country=%{location}<br>AQI Value=%{marker.size}<extra></extra>",
         "legendgroup": "Bangladesh",
         "locationmode": "country names",
         "locations": [
          "Bangladesh"
         ],
         "marker": {
          "color": "#00cc96",
          "size": [
           79
          ],
          "sizemode": "area",
          "sizeref": 1.0525,
          "symbol": "circle"
         },
         "mode": "markers",
         "name": "Bangladesh",
         "showlegend": true,
         "type": "scattergeo"
        },
        {
         "geo": "geo",
         "hovertemplate": "Country=%{location}<br>AQI Value=%{marker.size}<extra></extra>",
         "legendgroup": "Barbados",
         "locationmode": "country names",
         "locations": [
          "Barbados"
         ],
         "marker": {
          "color": "#ab63fa",
          "size": [
           73
          ],
          "sizemode": "area",
          "sizeref": 1.0525,
          "symbol": "circle"
         },
         "mode": "markers",
         "name": "Barbados",
         "showlegend": true,
         "type": "scattergeo"
        },
        {
         "geo": "geo",
         "hovertemplate": "Country=%{location}<br>AQI Value=%{marker.size}<extra></extra>",
         "legendgroup": "Belarus",
         "locationmode": "country names",
         "locations": [
          "Belarus"
         ],
         "marker": {
          "color": "#FFA15A",
          "size": [
           34
          ],
          "sizemode": "area",
          "sizeref": 1.0525,
          "symbol": "circle"
         },
         "mode": "markers",
         "name": "Belarus",
         "showlegend": true,
         "type": "scattergeo"
        },
        {
         "geo": "geo",
         "hovertemplate": "Country=%{location}<br>AQI Value=%{marker.size}<extra></extra>",
         "legendgroup": "Belgium",
         "locationmode": "country names",
         "locations": [
          "Belgium"
         ],
         "marker": {
          "color": "#19d3f3",
          "size": [
           34
          ],
          "sizemode": "area",
          "sizeref": 1.0525,
          "symbol": "circle"
         },
         "mode": "markers",
         "name": "Belgium",
         "showlegend": true,
         "type": "scattergeo"
        },
        {
         "geo": "geo",
         "hovertemplate": "Country=%{location}<br>AQI Value=%{marker.size}<extra></extra>",
         "legendgroup": "Belize",
         "locationmode": "country names",
         "locations": [
          "Belize"
         ],
         "marker": {
          "color": "#FF6692",
          "size": [
           58
          ],
          "sizemode": "area",
          "sizeref": 1.0525,
          "symbol": "circle"
         },
         "mode": "markers",
         "name": "Belize",
         "showlegend": true,
         "type": "scattergeo"
        },
        {
         "geo": "geo",
         "hovertemplate": "Country=%{location}<br>AQI Value=%{marker.size}<extra></extra>",
         "legendgroup": "Benin",
         "locationmode": "country names",
         "locations": [
          "Benin"
         ],
         "marker": {
          "color": "#B6E880",
          "size": [
           60
          ],
          "sizemode": "area",
          "sizeref": 1.0525,
          "symbol": "circle"
         },
         "mode": "markers",
         "name": "Benin",
         "showlegend": true,
         "type": "scattergeo"
        },
        {
         "geo": "geo",
         "hovertemplate": "Country=%{location}<br>AQI Value=%{marker.size}<extra></extra>",
         "legendgroup": "Bhutan",
         "locationmode": "country names",
         "locations": [
          "Bhutan"
         ],
         "marker": {
          "color": "#FF97FF",
          "size": [
           31
          ],
          "sizemode": "area",
          "sizeref": 1.0525,
          "symbol": "circle"
         },
         "mode": "markers",
         "name": "Bhutan",
         "showlegend": true,
         "type": "scattergeo"
        },
        {
         "geo": "geo",
         "hovertemplate": "Country=%{location}<br>AQI Value=%{marker.size}<extra></extra>",
         "legendgroup": "Bolivia (Plurinational State of)",
         "locationmode": "country names",
         "locations": [
          "Bolivia (Plurinational State of)"
         ],
         "marker": {
          "color": "#FECB52",
          "size": [
           27
          ],
          "sizemode": "area",
          "sizeref": 1.0525,
          "symbol": "circle"
         },
         "mode": "markers",
         "name": "Bolivia (Plurinational State of)",
         "showlegend": true,
         "type": "scattergeo"
        },
        {
         "geo": "geo",
         "hovertemplate": "Country=%{location}<br>AQI Value=%{marker.size}<extra></extra>",
         "legendgroup": "Bosnia and Herzegovina",
         "locationmode": "country names",
         "locations": [
          "Bosnia and Herzegovina"
         ],
         "marker": {
          "color": "#636efa",
          "size": [
           61
          ],
          "sizemode": "area",
          "sizeref": 1.0525,
          "symbol": "circle"
         },
         "mode": "markers",
         "name": "Bosnia and Herzegovina",
         "showlegend": true,
         "type": "scattergeo"
        },
        {
         "geo": "geo",
         "hovertemplate": "Country=%{location}<br>AQI Value=%{marker.size}<extra></extra>",
         "legendgroup": "Botswana",
         "locationmode": "country names",
         "locations": [
          "Botswana"
         ],
         "marker": {
          "color": "#EF553B",
          "size": [
           79
          ],
          "sizemode": "area",
          "sizeref": 1.0525,
          "symbol": "circle"
         },
         "mode": "markers",
         "name": "Botswana",
         "showlegend": true,
         "type": "scattergeo"
        },
        {
         "geo": "geo",
         "hovertemplate": "Country=%{location}<br>AQI Value=%{marker.size}<extra></extra>",
         "legendgroup": "Brazil",
         "locationmode": "country names",
         "locations": [
          "Brazil"
         ],
         "marker": {
          "color": "#00cc96",
          "size": [
           30
          ],
          "sizemode": "area",
          "sizeref": 1.0525,
          "symbol": "circle"
         },
         "mode": "markers",
         "name": "Brazil",
         "showlegend": true,
         "type": "scattergeo"
        },
        {
         "geo": "geo",
         "hovertemplate": "Country=%{location}<br>AQI Value=%{marker.size}<extra></extra>",
         "legendgroup": "Bulgaria",
         "locationmode": "country names",
         "locations": [
          "Bulgaria"
         ],
         "marker": {
          "color": "#ab63fa",
          "size": [
           38
          ],
          "sizemode": "area",
          "sizeref": 1.0525,
          "symbol": "circle"
         },
         "mode": "markers",
         "name": "Bulgaria",
         "showlegend": true,
         "type": "scattergeo"
        },
        {
         "geo": "geo",
         "hovertemplate": "Country=%{location}<br>AQI Value=%{marker.size}<extra></extra>",
         "legendgroup": "Burkina Faso",
         "locationmode": "country names",
         "locations": [
          "Burkina Faso"
         ],
         "marker": {
          "color": "#FFA15A",
          "size": [
           44
          ],
          "sizemode": "area",
          "sizeref": 1.0525,
          "symbol": "circle"
         },
         "mode": "markers",
         "name": "Burkina Faso",
         "showlegend": true,
         "type": "scattergeo"
        },
        {
         "geo": "geo",
         "hovertemplate": "Country=%{location}<br>AQI Value=%{marker.size}<extra></extra>",
         "legendgroup": "Burundi",
         "locationmode": "country names",
         "locations": [
          "Burundi"
         ],
         "marker": {
          "color": "#19d3f3",
          "size": [
           97
          ],
          "sizemode": "area",
          "sizeref": 1.0525,
          "symbol": "circle"
         },
         "mode": "markers",
         "name": "Burundi",
         "showlegend": true,
         "type": "scattergeo"
        },
        {
         "geo": "geo",
         "hovertemplate": "Country=%{location}<br>AQI Value=%{marker.size}<extra></extra>",
         "legendgroup": "Cabo Verde",
         "locationmode": "country names",
         "locations": [
          "Cabo Verde"
         ],
         "marker": {
          "color": "#FF6692",
          "size": [
           40
          ],
          "sizemode": "area",
          "sizeref": 1.0525,
          "symbol": "circle"
         },
         "mode": "markers",
         "name": "Cabo Verde",
         "showlegend": true,
         "type": "scattergeo"
        },
        {
         "geo": "geo",
         "hovertemplate": "Country=%{location}<br>AQI Value=%{marker.size}<extra></extra>",
         "legendgroup": "Cambodia",
         "locationmode": "country names",
         "locations": [
          "Cambodia"
         ],
         "marker": {
          "color": "#B6E880",
          "size": [
           44
          ],
          "sizemode": "area",
          "sizeref": 1.0525,
          "symbol": "circle"
         },
         "mode": "markers",
         "name": "Cambodia",
         "showlegend": true,
         "type": "scattergeo"
        },
        {
         "geo": "geo",
         "hovertemplate": "Country=%{location}<br>AQI Value=%{marker.size}<extra></extra>",
         "legendgroup": "Cameroon",
         "locationmode": "country names",
         "locations": [
          "Cameroon"
         ],
         "marker": {
          "color": "#FF97FF",
          "size": [
           42
          ],
          "sizemode": "area",
          "sizeref": 1.0525,
          "symbol": "circle"
         },
         "mode": "markers",
         "name": "Cameroon",
         "showlegend": true,
         "type": "scattergeo"
        },
        {
         "geo": "geo",
         "hovertemplate": "Country=%{location}<br>AQI Value=%{marker.size}<extra></extra>",
         "legendgroup": "Canada",
         "locationmode": "country names",
         "locations": [
          "Canada"
         ],
         "marker": {
          "color": "#FECB52",
          "size": [
           83
          ],
          "sizemode": "area",
          "sizeref": 1.0525,
          "symbol": "circle"
         },
         "mode": "markers",
         "name": "Canada",
         "showlegend": true,
         "type": "scattergeo"
        },
        {
         "geo": "geo",
         "hovertemplate": "Country=%{location}<br>AQI Value=%{marker.size}<extra></extra>",
         "legendgroup": "Central African Republic",
         "locationmode": "country names",
         "locations": [
          "Central African Republic"
         ],
         "marker": {
          "color": "#636efa",
          "size": [
           65
          ],
          "sizemode": "area",
          "sizeref": 1.0525,
          "symbol": "circle"
         },
         "mode": "markers",
         "name": "Central African Republic",
         "showlegend": true,
         "type": "scattergeo"
        },
        {
         "geo": "geo",
         "hovertemplate": "Country=%{location}<br>AQI Value=%{marker.size}<extra></extra>",
         "legendgroup": "Chad",
         "locationmode": "country names",
         "locations": [
          "Chad"
         ],
         "marker": {
          "color": "#EF553B",
          "size": [
           101
          ],
          "sizemode": "area",
          "sizeref": 1.0525,
          "symbol": "circle"
         },
         "mode": "markers",
         "name": "Chad",
         "showlegend": true,
         "type": "scattergeo"
        },
        {
         "geo": "geo",
         "hovertemplate": "Country=%{location}<br>AQI Value=%{marker.size}<extra></extra>",
         "legendgroup": "Chile",
         "locationmode": "country names",
         "locations": [
          "Chile"
         ],
         "marker": {
          "color": "#00cc96",
          "size": [
           115
          ],
          "sizemode": "area",
          "sizeref": 1.0525,
          "symbol": "circle"
         },
         "mode": "markers",
         "name": "Chile",
         "showlegend": true,
         "type": "scattergeo"
        },
        {
         "geo": "geo",
         "hovertemplate": "Country=%{location}<br>AQI Value=%{marker.size}<extra></extra>",
         "legendgroup": "China",
         "locationmode": "country names",
         "locations": [
          "China"
         ],
         "marker": {
          "color": "#ab63fa",
          "size": [
           48
          ],
          "sizemode": "area",
          "sizeref": 1.0525,
          "symbol": "circle"
         },
         "mode": "markers",
         "name": "China",
         "showlegend": true,
         "type": "scattergeo"
        },
        {
         "geo": "geo",
         "hovertemplate": "Country=%{location}<br>AQI Value=%{marker.size}<extra></extra>",
         "legendgroup": "Colombia",
         "locationmode": "country names",
         "locations": [
          "Colombia"
         ],
         "marker": {
          "color": "#FFA15A",
          "size": [
           29
          ],
          "sizemode": "area",
          "sizeref": 1.0525,
          "symbol": "circle"
         },
         "mode": "markers",
         "name": "Colombia",
         "showlegend": true,
         "type": "scattergeo"
        },
        {
         "geo": "geo",
         "hovertemplate": "Country=%{location}<br>AQI Value=%{marker.size}<extra></extra>",
         "legendgroup": "Comoros",
         "locationmode": "country names",
         "locations": [
          "Comoros"
         ],
         "marker": {
          "color": "#19d3f3",
          "size": [
           34
          ],
          "sizemode": "area",
          "sizeref": 1.0525,
          "symbol": "circle"
         },
         "mode": "markers",
         "name": "Comoros",
         "showlegend": true,
         "type": "scattergeo"
        },
        {
         "geo": "geo",
         "hovertemplate": "Country=%{location}<br>AQI Value=%{marker.size}<extra></extra>",
         "legendgroup": "Congo",
         "locationmode": "country names",
         "locations": [
          "Congo"
         ],
         "marker": {
          "color": "#FF6692",
          "size": [
           100
          ],
          "sizemode": "area",
          "sizeref": 1.0525,
          "symbol": "circle"
         },
         "mode": "markers",
         "name": "Congo",
         "showlegend": true,
         "type": "scattergeo"
        },
        {
         "geo": "geo",
         "hovertemplate": "Country=%{location}<br>AQI Value=%{marker.size}<extra></extra>",
         "legendgroup": "Costa Rica",
         "locationmode": "country names",
         "locations": [
          "Costa Rica"
         ],
         "marker": {
          "color": "#B6E880",
          "size": [
           60
          ],
          "sizemode": "area",
          "sizeref": 1.0525,
          "symbol": "circle"
         },
         "mode": "markers",
         "name": "Costa Rica",
         "showlegend": true,
         "type": "scattergeo"
        },
        {
         "geo": "geo",
         "hovertemplate": "Country=%{location}<br>AQI Value=%{marker.size}<extra></extra>",
         "legendgroup": "Croatia",
         "locationmode": "country names",
         "locations": [
          "Croatia"
         ],
         "marker": {
          "color": "#FF97FF",
          "size": [
           47
          ],
          "sizemode": "area",
          "sizeref": 1.0525,
          "symbol": "circle"
         },
         "mode": "markers",
         "name": "Croatia",
         "showlegend": true,
         "type": "scattergeo"
        },
        {
         "geo": "geo",
         "hovertemplate": "Country=%{location}<br>AQI Value=%{marker.size}<extra></extra>",
         "legendgroup": "Cuba",
         "locationmode": "country names",
         "locations": [
          "Cuba"
         ],
         "marker": {
          "color": "#FECB52",
          "size": [
           56
          ],
          "sizemode": "area",
          "sizeref": 1.0525,
          "symbol": "circle"
         },
         "mode": "markers",
         "name": "Cuba",
         "showlegend": true,
         "type": "scattergeo"
        },
        {
         "geo": "geo",
         "hovertemplate": "Country=%{location}<br>AQI Value=%{marker.size}<extra></extra>",
         "legendgroup": "Cyprus",
         "locationmode": "country names",
         "locations": [
          "Cyprus"
         ],
         "marker": {
          "color": "#636efa",
          "size": [
           50
          ],
          "sizemode": "area",
          "sizeref": 1.0525,
          "symbol": "circle"
         },
         "mode": "markers",
         "name": "Cyprus",
         "showlegend": true,
         "type": "scattergeo"
        },
        {
         "geo": "geo",
         "hovertemplate": "Country=%{location}<br>AQI Value=%{marker.size}<extra></extra>",
         "legendgroup": "Czechia",
         "locationmode": "country names",
         "locations": [
          "Czechia"
         ],
         "marker": {
          "color": "#EF553B",
          "size": [
           60
          ],
          "sizemode": "area",
          "sizeref": 1.0525,
          "symbol": "circle"
         },
         "mode": "markers",
         "name": "Czechia",
         "showlegend": true,
         "type": "scattergeo"
        },
        {
         "geo": "geo",
         "hovertemplate": "Country=%{location}<br>AQI Value=%{marker.size}<extra></extra>",
         "legendgroup": "Côte d'Ivoire",
         "locationmode": "country names",
         "locations": [
          "Côte d'Ivoire"
         ],
         "marker": {
          "color": "#00cc96",
          "size": [
           25
          ],
          "sizemode": "area",
          "sizeref": 1.0525,
          "symbol": "circle"
         },
         "mode": "markers",
         "name": "Côte d'Ivoire",
         "showlegend": true,
         "type": "scattergeo"
        },
        {
         "geo": "geo",
         "hovertemplate": "Country=%{location}<br>AQI Value=%{marker.size}<extra></extra>",
         "legendgroup": "Democratic Republic of the Congo",
         "locationmode": "country names",
         "locations": [
          "Democratic Republic of the Congo"
         ],
         "marker": {
          "color": "#ab63fa",
          "size": [
           71
          ],
          "sizemode": "area",
          "sizeref": 1.0525,
          "symbol": "circle"
         },
         "mode": "markers",
         "name": "Democratic Republic of the Congo",
         "showlegend": true,
         "type": "scattergeo"
        },
        {
         "geo": "geo",
         "hovertemplate": "Country=%{location}<br>AQI Value=%{marker.size}<extra></extra>",
         "legendgroup": "Denmark",
         "locationmode": "country names",
         "locations": [
          "Denmark"
         ],
         "marker": {
          "color": "#FFA15A",
          "size": [
           36
          ],
          "sizemode": "area",
          "sizeref": 1.0525,
          "symbol": "circle"
         },
         "mode": "markers",
         "name": "Denmark",
         "showlegend": true,
         "type": "scattergeo"
        },
        {
         "geo": "geo",
         "hovertemplate": "Country=%{location}<br>AQI Value=%{marker.size}<extra></extra>",
         "legendgroup": "Dominican Republic",
         "locationmode": "country names",
         "locations": [
          "Dominican Republic"
         ],
         "marker": {
          "color": "#19d3f3",
          "size": [
           63
          ],
          "sizemode": "area",
          "sizeref": 1.0525,
          "symbol": "circle"
         },
         "mode": "markers",
         "name": "Dominican Republic",
         "showlegend": true,
         "type": "scattergeo"
        },
        {
         "geo": "geo",
         "hovertemplate": "Country=%{location}<br>AQI Value=%{marker.size}<extra></extra>",
         "legendgroup": "Ecuador",
         "locationmode": "country names",
         "locations": [
          "Ecuador"
         ],
         "marker": {
          "color": "#FF6692",
          "size": [
           44
          ],
          "sizemode": "area",
          "sizeref": 1.0525,
          "symbol": "circle"
         },
         "mode": "markers",
         "name": "Ecuador",
         "showlegend": true,
         "type": "scattergeo"
        },
        {
         "geo": "geo",
         "hovertemplate": "Country=%{location}<br>AQI Value=%{marker.size}<extra></extra>",
         "legendgroup": "Egypt",
         "locationmode": "country names",
         "locations": [
          "Egypt"
         ],
         "marker": {
          "color": "#B6E880",
          "size": [
           80
          ],
          "sizemode": "area",
          "sizeref": 1.0525,
          "symbol": "circle"
         },
         "mode": "markers",
         "name": "Egypt",
         "showlegend": true,
         "type": "scattergeo"
        },
        {
         "geo": "geo",
         "hovertemplate": "Country=%{location}<br>AQI Value=%{marker.size}<extra></extra>",
         "legendgroup": "El Salvador",
         "locationmode": "country names",
         "locations": [
          "El Salvador"
         ],
         "marker": {
          "color": "#FF97FF",
          "size": [
           69
          ],
          "sizemode": "area",
          "sizeref": 1.0525,
          "symbol": "circle"
         },
         "mode": "markers",
         "name": "El Salvador",
         "showlegend": true,
         "type": "scattergeo"
        },
        {
         "geo": "geo",
         "hovertemplate": "Country=%{location}<br>AQI Value=%{marker.size}<extra></extra>",
         "legendgroup": "Equatorial Guinea",
         "locationmode": "country names",
         "locations": [
          "Equatorial Guinea"
         ],
         "marker": {
          "color": "#FECB52",
          "size": [
           52
          ],
          "sizemode": "area",
          "sizeref": 1.0525,
          "symbol": "circle"
         },
         "mode": "markers",
         "name": "Equatorial Guinea",
         "showlegend": true,
         "type": "scattergeo"
        },
        {
         "geo": "geo",
         "hovertemplate": "Country=%{location}<br>AQI Value=%{marker.size}<extra></extra>",
         "legendgroup": "Eritrea",
         "locationmode": "country names",
         "locations": [
          "Eritrea"
         ],
         "marker": {
          "color": "#636efa",
          "size": [
           88
          ],
          "sizemode": "area",
          "sizeref": 1.0525,
          "symbol": "circle"
         },
         "mode": "markers",
         "name": "Eritrea",
         "showlegend": true,
         "type": "scattergeo"
        },
        {
         "geo": "geo",
         "hovertemplate": "Country=%{location}<br>AQI Value=%{marker.size}<extra></extra>",
         "legendgroup": "Estonia",
         "locationmode": "country names",
         "locations": [
          "Estonia"
         ],
         "marker": {
          "color": "#EF553B",
          "size": [
           36
          ],
          "sizemode": "area",
          "sizeref": 1.0525,
          "symbol": "circle"
         },
         "mode": "markers",
         "name": "Estonia",
         "showlegend": true,
         "type": "scattergeo"
        },
        {
         "geo": "geo",
         "hovertemplate": "Country=%{location}<br>AQI Value=%{marker.size}<extra></extra>",
         "legendgroup": "Ethiopia",
         "locationmode": "country names",
         "locations": [
          "Ethiopia"
         ],
         "marker": {
          "color": "#00cc96",
          "size": [
           54
          ],
          "sizemode": "area",
          "sizeref": 1.0525,
          "symbol": "circle"
         },
         "mode": "markers",
         "name": "Ethiopia",
         "showlegend": true,
         "type": "scattergeo"
        },
        {
         "geo": "geo",
         "hovertemplate": "Country=%{location}<br>AQI Value=%{marker.size}<extra></extra>",
         "legendgroup": "Finland",
         "locationmode": "country names",
         "locations": [
          "Finland"
         ],
         "marker": {
          "color": "#ab63fa",
          "size": [
           32
          ],
          "sizemode": "area",
          "sizeref": 1.0525,
          "symbol": "circle"
         },
         "mode": "markers",
         "name": "Finland",
         "showlegend": true,
         "type": "scattergeo"
        },
        {
         "geo": "geo",
         "hovertemplate": "Country=%{location}<br>AQI Value=%{marker.size}<extra></extra>",
         "legendgroup": "France",
         "locationmode": "country names",
         "locations": [
          "France"
         ],
         "marker": {
          "color": "#FFA15A",
          "size": [
           59
          ],
          "sizemode": "area",
          "sizeref": 1.0525,
          "symbol": "circle"
         },
         "mode": "markers",
         "name": "France",
         "showlegend": true,
         "type": "scattergeo"
        },
        {
         "geo": "geo",
         "hovertemplate": "Country=%{location}<br>AQI Value=%{marker.size}<extra></extra>",
         "legendgroup": "Gabon",
         "locationmode": "country names",
         "locations": [
          "Gabon"
         ],
         "marker": {
          "color": "#19d3f3",
          "size": [
           40
          ],
          "sizemode": "area",
          "sizeref": 1.0525,
          "symbol": "circle"
         },
         "mode": "markers",
         "name": "Gabon",
         "showlegend": true,
         "type": "scattergeo"
        },
        {
         "geo": "geo",
         "hovertemplate": "Country=%{location}<br>AQI Value=%{marker.size}<extra></extra>",
         "legendgroup": "Gambia",
         "locationmode": "country names",
         "locations": [
          "Gambia"
         ],
         "marker": {
          "color": "#FF6692",
          "size": [
           158
          ],
          "sizemode": "area",
          "sizeref": 1.0525,
          "symbol": "circle"
         },
         "mode": "markers",
         "name": "Gambia",
         "showlegend": true,
         "type": "scattergeo"
        },
        {
         "geo": "geo",
         "hovertemplate": "Country=%{location}<br>AQI Value=%{marker.size}<extra></extra>",
         "legendgroup": "Georgia",
         "locationmode": "country names",
         "locations": [
          "Georgia"
         ],
         "marker": {
          "color": "#B6E880",
          "size": [
           36
          ],
          "sizemode": "area",
          "sizeref": 1.0525,
          "symbol": "circle"
         },
         "mode": "markers",
         "name": "Georgia",
         "showlegend": true,
         "type": "scattergeo"
        },
        {
         "geo": "geo",
         "hovertemplate": "Country=%{location}<br>AQI Value=%{marker.size}<extra></extra>",
         "legendgroup": "Germany",
         "locationmode": "country names",
         "locations": [
          "Germany"
         ],
         "marker": {
          "color": "#FF97FF",
          "size": [
           32
          ],
          "sizemode": "area",
          "sizeref": 1.0525,
          "symbol": "circle"
         },
         "mode": "markers",
         "name": "Germany",
         "showlegend": true,
         "type": "scattergeo"
        },
        {
         "geo": "geo",
         "hovertemplate": "Country=%{location}<br>AQI Value=%{marker.size}<extra></extra>",
         "legendgroup": "Ghana",
         "locationmode": "country names",
         "locations": [
          "Ghana"
         ],
         "marker": {
          "color": "#FECB52",
          "size": [
           45
          ],
          "sizemode": "area",
          "sizeref": 1.0525,
          "symbol": "circle"
         },
         "mode": "markers",
         "name": "Ghana",
         "showlegend": true,
         "type": "scattergeo"
        },
        {
         "geo": "geo",
         "hovertemplate": "Country=%{location}<br>AQI Value=%{marker.size}<extra></extra>",
         "legendgroup": "Greece",
         "locationmode": "country names",
         "locations": [
          "Greece"
         ],
         "marker": {
          "color": "#636efa",
          "size": [
           40
          ],
          "sizemode": "area",
          "sizeref": 1.0525,
          "symbol": "circle"
         },
         "mode": "markers",
         "name": "Greece",
         "showlegend": true,
         "type": "scattergeo"
        },
        {
         "geo": "geo",
         "hovertemplate": "Country=%{location}<br>AQI Value=%{marker.size}<extra></extra>",
         "legendgroup": "Guatemala",
         "locationmode": "country names",
         "locations": [
          "Guatemala"
         ],
         "marker": {
          "color": "#EF553B",
          "size": [
           65
          ],
          "sizemode": "area",
          "sizeref": 1.0525,
          "symbol": "circle"
         },
         "mode": "markers",
         "name": "Guatemala",
         "showlegend": true,
         "type": "scattergeo"
        },
        {
         "geo": "geo",
         "hovertemplate": "Country=%{location}<br>AQI Value=%{marker.size}<extra></extra>",
         "legendgroup": "Guinea",
         "locationmode": "country names",
         "locations": [
          "Guinea"
         ],
         "marker": {
          "color": "#00cc96",
          "size": [
           29
          ],
          "sizemode": "area",
          "sizeref": 1.0525,
          "symbol": "circle"
         },
         "mode": "markers",
         "name": "Guinea",
         "showlegend": true,
         "type": "scattergeo"
        },
        {
         "geo": "geo",
         "hovertemplate": "Country=%{location}<br>AQI Value=%{marker.size}<extra></extra>",
         "legendgroup": "Guinea-Bissau",
         "locationmode": "country names",
         "locations": [
          "Guinea-Bissau"
         ],
         "marker": {
          "color": "#ab63fa",
          "size": [
           120
          ],
          "sizemode": "area",
          "sizeref": 1.0525,
          "symbol": "circle"
         },
         "mode": "markers",
         "name": "Guinea-Bissau",
         "showlegend": true,
         "type": "scattergeo"
        },
        {
         "geo": "geo",
         "hovertemplate": "Country=%{location}<br>AQI Value=%{marker.size}<extra></extra>",
         "legendgroup": "Guyana",
         "locationmode": "country names",
         "locations": [
          "Guyana"
         ],
         "marker": {
          "color": "#FFA15A",
          "size": [
           34
          ],
          "sizemode": "area",
          "sizeref": 1.0525,
          "symbol": "circle"
         },
         "mode": "markers",
         "name": "Guyana",
         "showlegend": true,
         "type": "scattergeo"
        },
        {
         "geo": "geo",
         "hovertemplate": "Country=%{location}<br>AQI Value=%{marker.size}<extra></extra>",
         "legendgroup": "Haiti",
         "locationmode": "country names",
         "locations": [
          "Haiti"
         ],
         "marker": {
          "color": "#19d3f3",
          "size": [
           102
          ],
          "sizemode": "area",
          "sizeref": 1.0525,
          "symbol": "circle"
         },
         "mode": "markers",
         "name": "Haiti",
         "showlegend": true,
         "type": "scattergeo"
        },
        {
         "geo": "geo",
         "hovertemplate": "Country=%{location}<br>AQI Value=%{marker.size}<extra></extra>",
         "legendgroup": "Honduras",
         "locationmode": "country names",
         "locations": [
          "Honduras"
         ],
         "marker": {
          "color": "#FF6692",
          "size": [
           37
          ],
          "sizemode": "area",
          "sizeref": 1.0525,
          "symbol": "circle"
         },
         "mode": "markers",
         "name": "Honduras",
         "showlegend": true,
         "type": "scattergeo"
        },
        {
         "geo": "geo",
         "hovertemplate": "Country=%{location}<br>AQI Value=%{marker.size}<extra></extra>",
         "legendgroup": "Hungary",
         "locationmode": "country names",
         "locations": [
          "Hungary"
         ],
         "marker": {
          "color": "#B6E880",
          "size": [
           69
          ],
          "sizemode": "area",
          "sizeref": 1.0525,
          "symbol": "circle"
         },
         "mode": "markers",
         "name": "Hungary",
         "showlegend": true,
         "type": "scattergeo"
        },
        {
         "geo": "geo",
         "hovertemplate": "Country=%{location}<br>AQI Value=%{marker.size}<extra></extra>",
         "legendgroup": "Iceland",
         "locationmode": "country names",
         "locations": [
          "Iceland"
         ],
         "marker": {
          "color": "#FF97FF",
          "size": [
           23
          ],
          "sizemode": "area",
          "sizeref": 1.0525,
          "symbol": "circle"
         },
         "mode": "markers",
         "name": "Iceland",
         "showlegend": true,
         "type": "scattergeo"
        },
        {
         "geo": "geo",
         "hovertemplate": "Country=%{location}<br>AQI Value=%{marker.size}<extra></extra>",
         "legendgroup": "India",
         "locationmode": "country names",
         "locations": [
          "India"
         ],
         "marker": {
          "color": "#FECB52",
          "size": [
           155
          ],
          "sizemode": "area",
          "sizeref": 1.0525,
          "symbol": "circle"
         },
         "mode": "markers",
         "name": "India",
         "showlegend": true,
         "type": "scattergeo"
        },
        {
         "geo": "geo",
         "hovertemplate": "Country=%{location}<br>AQI Value=%{marker.size}<extra></extra>",
         "legendgroup": "Indonesia",
         "locationmode": "country names",
         "locations": [
          "Indonesia"
         ],
         "marker": {
          "color": "#636efa",
          "size": [
           195
          ],
          "sizemode": "area",
          "sizeref": 1.0525,
          "symbol": "circle"
         },
         "mode": "markers",
         "name": "Indonesia",
         "showlegend": true,
         "type": "scattergeo"
        },
        {
         "geo": "geo",
         "hovertemplate": "Country=%{location}<br>AQI Value=%{marker.size}<extra></extra>",
         "legendgroup": "Iran (Islamic Republic of)",
         "locationmode": "country names",
         "locations": [
          "Iran (Islamic Republic of)"
         ],
         "marker": {
          "color": "#EF553B",
          "size": [
           152
          ],
          "sizemode": "area",
          "sizeref": 1.0525,
          "symbol": "circle"
         },
         "mode": "markers",
         "name": "Iran (Islamic Republic of)",
         "showlegend": true,
         "type": "scattergeo"
        },
        {
         "geo": "geo",
         "hovertemplate": "Country=%{location}<br>AQI Value=%{marker.size}<extra></extra>",
         "legendgroup": "Iraq",
         "locationmode": "country names",
         "locations": [
          "Iraq"
         ],
         "marker": {
          "color": "#00cc96",
          "size": [
           76
          ],
          "sizemode": "area",
          "sizeref": 1.0525,
          "symbol": "circle"
         },
         "mode": "markers",
         "name": "Iraq",
         "showlegend": true,
         "type": "scattergeo"
        },
        {
         "geo": "geo",
         "hovertemplate": "Country=%{location}<br>AQI Value=%{marker.size}<extra></extra>",
         "legendgroup": "Ireland",
         "locationmode": "country names",
         "locations": [
          "Ireland"
         ],
         "marker": {
          "color": "#ab63fa",
          "size": [
           58
          ],
          "sizemode": "area",
          "sizeref": 1.0525,
          "symbol": "circle"
         },
         "mode": "markers",
         "name": "Ireland",
         "showlegend": true,
         "type": "scattergeo"
        },
        {
         "geo": "geo",
         "hovertemplate": "Country=%{location}<br>AQI Value=%{marker.size}<extra></extra>",
         "legendgroup": "Israel",
         "locationmode": "country names",
         "locations": [
          "Israel"
         ],
         "marker": {
          "color": "#FFA15A",
          "size": [
           65
          ],
          "sizemode": "area",
          "sizeref": 1.0525,
          "symbol": "circle"
         },
         "mode": "markers",
         "name": "Israel",
         "showlegend": true,
         "type": "scattergeo"
        },
        {
         "geo": "geo",
         "hovertemplate": "Country=%{location}<br>AQI Value=%{marker.size}<extra></extra>",
         "legendgroup": "Italy",
         "locationmode": "country names",
         "locations": [
          "Italy"
         ],
         "marker": {
          "color": "#19d3f3",
          "size": [
           87
          ],
          "sizemode": "area",
          "sizeref": 1.0525,
          "symbol": "circle"
         },
         "mode": "markers",
         "name": "Italy",
         "showlegend": true,
         "type": "scattergeo"
        },
        {
         "geo": "geo",
         "hovertemplate": "Country=%{location}<br>AQI Value=%{marker.size}<extra></extra>",
         "legendgroup": "Jamaica",
         "locationmode": "country names",
         "locations": [
          "Jamaica"
         ],
         "marker": {
          "color": "#FF6692",
          "size": [
           105
          ],
          "sizemode": "area",
          "sizeref": 1.0525,
          "symbol": "circle"
         },
         "mode": "markers",
         "name": "Jamaica",
         "showlegend": true,
         "type": "scattergeo"
        },
        {
         "geo": "geo",
         "hovertemplate": "Country=%{location}<br>AQI Value=%{marker.size}<extra></extra>",
         "legendgroup": "Japan",
         "locationmode": "country names",
         "locations": [
          "Japan"
         ],
         "marker": {
          "color": "#B6E880",
          "size": [
           36
          ],
          "sizemode": "area",
          "sizeref": 1.0525,
          "symbol": "circle"
         },
         "mode": "markers",
         "name": "Japan",
         "showlegend": true,
         "type": "scattergeo"
        },
        {
         "geo": "geo",
         "hovertemplate": "Country=%{location}<br>AQI Value=%{marker.size}<extra></extra>",
         "legendgroup": "Jordan",
         "locationmode": "country names",
         "locations": [
          "Jordan"
         ],
         "marker": {
          "color": "#FF97FF",
          "size": [
           88
          ],
          "sizemode": "area",
          "sizeref": 1.0525,
          "symbol": "circle"
         },
         "mode": "markers",
         "name": "Jordan",
         "showlegend": true,
         "type": "scattergeo"
        },
        {
         "geo": "geo",
         "hovertemplate": "Country=%{location}<br>AQI Value=%{marker.size}<extra></extra>",
         "legendgroup": "Kazakhstan",
         "locationmode": "country names",
         "locations": [
          "Kazakhstan"
         ],
         "marker": {
          "color": "#FECB52",
          "size": [
           39
          ],
          "sizemode": "area",
          "sizeref": 1.0525,
          "symbol": "circle"
         },
         "mode": "markers",
         "name": "Kazakhstan",
         "showlegend": true,
         "type": "scattergeo"
        },
        {
         "geo": "geo",
         "hovertemplate": "Country=%{location}<br>AQI Value=%{marker.size}<extra></extra>",
         "legendgroup": "Kenya",
         "locationmode": "country names",
         "locations": [
          "Kenya"
         ],
         "marker": {
          "color": "#636efa",
          "size": [
           92
          ],
          "sizemode": "area",
          "sizeref": 1.0525,
          "symbol": "circle"
         },
         "mode": "markers",
         "name": "Kenya",
         "showlegend": true,
         "type": "scattergeo"
        },
        {
         "geo": "geo",
         "hovertemplate": "Country=%{location}<br>AQI Value=%{marker.size}<extra></extra>",
         "legendgroup": "Kingdom of Eswatini",
         "locationmode": "country names",
         "locations": [
          "Kingdom of Eswatini"
         ],
         "marker": {
          "color": "#EF553B",
          "size": [
           169
          ],
          "sizemode": "area",
          "sizeref": 1.0525,
          "symbol": "circle"
         },
         "mode": "markers",
         "name": "Kingdom of Eswatini",
         "showlegend": true,
         "type": "scattergeo"
        },
        {
         "geo": "geo",
         "hovertemplate": "Country=%{location}<br>AQI Value=%{marker.size}<extra></extra>",
         "legendgroup": "Kuwait",
         "locationmode": "country names",
         "locations": [
          "Kuwait"
         ],
         "marker": {
          "color": "#00cc96",
          "size": [
           161
          ],
          "sizemode": "area",
          "sizeref": 1.0525,
          "symbol": "circle"
         },
         "mode": "markers",
         "name": "Kuwait",
         "showlegend": true,
         "type": "scattergeo"
        },
        {
         "geo": "geo",
         "hovertemplate": "Country=%{location}<br>AQI Value=%{marker.size}<extra></extra>",
         "legendgroup": "Kyrgyzstan",
         "locationmode": "country names",
         "locations": [
          "Kyrgyzstan"
         ],
         "marker": {
          "color": "#ab63fa",
          "size": [
           42
          ],
          "sizemode": "area",
          "sizeref": 1.0525,
          "symbol": "circle"
         },
         "mode": "markers",
         "name": "Kyrgyzstan",
         "showlegend": true,
         "type": "scattergeo"
        },
        {
         "geo": "geo",
         "hovertemplate": "Country=%{location}<br>AQI Value=%{marker.size}<extra></extra>",
         "legendgroup": "Lao People's Democratic Republic",
         "locationmode": "country names",
         "locations": [
          "Lao People's Democratic Republic"
         ],
         "marker": {
          "color": "#FFA15A",
          "size": [
           45
          ],
          "sizemode": "area",
          "sizeref": 1.0525,
          "symbol": "circle"
         },
         "mode": "markers",
         "name": "Lao People's Democratic Republic",
         "showlegend": true,
         "type": "scattergeo"
        },
        {
         "geo": "geo",
         "hovertemplate": "Country=%{location}<br>AQI Value=%{marker.size}<extra></extra>",
         "legendgroup": "Latvia",
         "locationmode": "country names",
         "locations": [
          "Latvia"
         ],
         "marker": {
          "color": "#19d3f3",
          "size": [
           43
          ],
          "sizemode": "area",
          "sizeref": 1.0525,
          "symbol": "circle"
         },
         "mode": "markers",
         "name": "Latvia",
         "showlegend": true,
         "type": "scattergeo"
        },
        {
         "geo": "geo",
         "hovertemplate": "Country=%{location}<br>AQI Value=%{marker.size}<extra></extra>",
         "legendgroup": "Lebanon",
         "locationmode": "country names",
         "locations": [
          "Lebanon"
         ],
         "marker": {
          "color": "#FF6692",
          "size": [
           64
          ],
          "sizemode": "area",
          "sizeref": 1.0525,
          "symbol": "circle"
         },
         "mode": "markers",
         "name": "Lebanon",
         "showlegend": true,
         "type": "scattergeo"
        },
        {
         "geo": "geo",
         "hovertemplate": "Country=%{location}<br>AQI Value=%{marker.size}<extra></extra>",
         "legendgroup": "Lesotho",
         "locationmode": "country names",
         "locations": [
          "Lesotho"
         ],
         "marker": {
          "color": "#B6E880",
          "size": [
           77
          ],
          "sizemode": "area",
          "sizeref": 1.0525,
          "symbol": "circle"
         },
         "mode": "markers",
         "name": "Lesotho",
         "showlegend": true,
         "type": "scattergeo"
        },
        {
         "geo": "geo",
         "hovertemplate": "Country=%{location}<br>AQI Value=%{marker.size}<extra></extra>",
         "legendgroup": "Liberia",
         "locationmode": "country names",
         "locations": [
          "Liberia"
         ],
         "marker": {
          "color": "#FF97FF",
          "size": [
           40
          ],
          "sizemode": "area",
          "sizeref": 1.0525,
          "symbol": "circle"
         },
         "mode": "markers",
         "name": "Liberia",
         "showlegend": true,
         "type": "scattergeo"
        },
        {
         "geo": "geo",
         "hovertemplate": "Country=%{location}<br>AQI Value=%{marker.size}<extra></extra>",
         "legendgroup": "Libya",
         "locationmode": "country names",
         "locations": [
          "Libya"
         ],
         "marker": {
          "color": "#FECB52",
          "size": [
           49
          ],
          "sizemode": "area",
          "sizeref": 1.0525,
          "symbol": "circle"
         },
         "mode": "markers",
         "name": "Libya",
         "showlegend": true,
         "type": "scattergeo"
        },
        {
         "geo": "geo",
         "hovertemplate": "Country=%{location}<br>AQI Value=%{marker.size}<extra></extra>",
         "legendgroup": "Lithuania",
         "locationmode": "country names",
         "locations": [
          "Lithuania"
         ],
         "marker": {
          "color": "#636efa",
          "size": [
           32
          ],
          "sizemode": "area",
          "sizeref": 1.0525,
          "symbol": "circle"
         },
         "mode": "markers",
         "name": "Lithuania",
         "showlegend": true,
         "type": "scattergeo"
        },
        {
         "geo": "geo",
         "hovertemplate": "Country=%{location}<br>AQI Value=%{marker.size}<extra></extra>",
         "legendgroup": "Luxembourg",
         "locationmode": "country names",
         "locations": [
          "Luxembourg"
         ],
         "marker": {
          "color": "#EF553B",
          "size": [
           26
          ],
          "sizemode": "area",
          "sizeref": 1.0525,
          "symbol": "circle"
         },
         "mode": "markers",
         "name": "Luxembourg",
         "showlegend": true,
         "type": "scattergeo"
        },
        {
         "geo": "geo",
         "hovertemplate": "Country=%{location}<br>AQI Value=%{marker.size}<extra></extra>",
         "legendgroup": "Madagascar",
         "locationmode": "country names",
         "locations": [
          "Madagascar"
         ],
         "marker": {
          "color": "#00cc96",
          "size": [
           21
          ],
          "sizemode": "area",
          "sizeref": 1.0525,
          "symbol": "circle"
         },
         "mode": "markers",
         "name": "Madagascar",
         "showlegend": true,
         "type": "scattergeo"
        },
        {
         "geo": "geo",
         "hovertemplate": "Country=%{location}<br>AQI Value=%{marker.size}<extra></extra>",
         "legendgroup": "Malawi",
         "locationmode": "country names",
         "locations": [
          "Malawi"
         ],
         "marker": {
          "color": "#ab63fa",
          "size": [
           33
          ],
          "sizemode": "area",
          "sizeref": 1.0525,
          "symbol": "circle"
         },
         "mode": "markers",
         "name": "Malawi",
         "showlegend": true,
         "type": "scattergeo"
        },
        {
         "geo": "geo",
         "hovertemplate": "Country=%{location}<br>AQI Value=%{marker.size}<extra></extra>",
         "legendgroup": "Malaysia",
         "locationmode": "country names",
         "locations": [
          "Malaysia"
         ],
         "marker": {
          "color": "#FFA15A",
          "size": [
           131
          ],
          "sizemode": "area",
          "sizeref": 1.0525,
          "symbol": "circle"
         },
         "mode": "markers",
         "name": "Malaysia",
         "showlegend": true,
         "type": "scattergeo"
        },
        {
         "geo": "geo",
         "hovertemplate": "Country=%{location}<br>AQI Value=%{marker.size}<extra></extra>",
         "legendgroup": "Maldives",
         "locationmode": "country names",
         "locations": [
          "Maldives"
         ],
         "marker": {
          "color": "#19d3f3",
          "size": [
           19
          ],
          "sizemode": "area",
          "sizeref": 1.0525,
          "symbol": "circle"
         },
         "mode": "markers",
         "name": "Maldives",
         "showlegend": true,
         "type": "scattergeo"
        },
        {
         "geo": "geo",
         "hovertemplate": "Country=%{location}<br>AQI Value=%{marker.size}<extra></extra>",
         "legendgroup": "Mali",
         "locationmode": "country names",
         "locations": [
          "Mali"
         ],
         "marker": {
          "color": "#FF6692",
          "size": [
           85
          ],
          "sizemode": "area",
          "sizeref": 1.0525,
          "symbol": "circle"
         },
         "mode": "markers",
         "name": "Mali",
         "showlegend": true,
         "type": "scattergeo"
        },
        {
         "geo": "geo",
         "hovertemplate": "Country=%{location}<br>AQI Value=%{marker.size}<extra></extra>",
         "legendgroup": "Malta",
         "locationmode": "country names",
         "locations": [
          "Malta"
         ],
         "marker": {
          "color": "#B6E880",
          "size": [
           70
          ],
          "sizemode": "area",
          "sizeref": 1.0525,
          "symbol": "circle"
         },
         "mode": "markers",
         "name": "Malta",
         "showlegend": true,
         "type": "scattergeo"
        },
        {
         "geo": "geo",
         "hovertemplate": "Country=%{location}<br>AQI Value=%{marker.size}<extra></extra>",
         "legendgroup": "Mauritania",
         "locationmode": "country names",
         "locations": [
          "Mauritania"
         ],
         "marker": {
          "color": "#FF97FF",
          "size": [
           157
          ],
          "sizemode": "area",
          "sizeref": 1.0525,
          "symbol": "circle"
         },
         "mode": "markers",
         "name": "Mauritania",
         "showlegend": true,
         "type": "scattergeo"
        },
        {
         "geo": "geo",
         "hovertemplate": "Country=%{location}<br>AQI Value=%{marker.size}<extra></extra>",
         "legendgroup": "Mauritius",
         "locationmode": "country names",
         "locations": [
          "Mauritius"
         ],
         "marker": {
          "color": "#FECB52",
          "size": [
           30
          ],
          "sizemode": "area",
          "sizeref": 1.0525,
          "symbol": "circle"
         },
         "mode": "markers",
         "name": "Mauritius",
         "showlegend": true,
         "type": "scattergeo"
        },
        {
         "geo": "geo",
         "hovertemplate": "Country=%{location}<br>AQI Value=%{marker.size}<extra></extra>",
         "legendgroup": "Mexico",
         "locationmode": "country names",
         "locations": [
          "Mexico"
         ],
         "marker": {
          "color": "#636efa",
          "size": [
           164
          ],
          "sizemode": "area",
          "sizeref": 1.0525,
          "symbol": "circle"
         },
         "mode": "markers",
         "name": "Mexico",
         "showlegend": true,
         "type": "scattergeo"
        },
        {
         "geo": "geo",
         "hovertemplate": "Country=%{location}<br>AQI Value=%{marker.size}<extra></extra>",
         "legendgroup": "Monaco",
         "locationmode": "country names",
         "locations": [
          "Monaco"
         ],
         "marker": {
          "color": "#EF553B",
          "size": [
           56
          ],
          "sizemode": "area",
          "sizeref": 1.0525,
          "symbol": "circle"
         },
         "mode": "markers",
         "name": "Monaco",
         "showlegend": true,
         "type": "scattergeo"
        },
        {
         "geo": "geo",
         "hovertemplate": "Country=%{location}<br>AQI Value=%{marker.size}<extra></extra>",
         "legendgroup": "Mongolia",
         "locationmode": "country names",
         "locations": [
          "Mongolia"
         ],
         "marker": {
          "color": "#00cc96",
          "size": [
           32
          ],
          "sizemode": "area",
          "sizeref": 1.0525,
          "symbol": "circle"
         },
         "mode": "markers",
         "name": "Mongolia",
         "showlegend": true,
         "type": "scattergeo"
        },
        {
         "geo": "geo",
         "hovertemplate": "Country=%{location}<br>AQI Value=%{marker.size}<extra></extra>",
         "legendgroup": "Montenegro",
         "locationmode": "country names",
         "locations": [
          "Montenegro"
         ],
         "marker": {
          "color": "#ab63fa",
          "size": [
           52
          ],
          "sizemode": "area",
          "sizeref": 1.0525,
          "symbol": "circle"
         },
         "mode": "markers",
         "name": "Montenegro",
         "showlegend": true,
         "type": "scattergeo"
        },
        {
         "geo": "geo",
         "hovertemplate": "Country=%{location}<br>AQI Value=%{marker.size}<extra></extra>",
         "legendgroup": "Morocco",
         "locationmode": "country names",
         "locations": [
          "Morocco"
         ],
         "marker": {
          "color": "#FFA15A",
          "size": [
           38
          ],
          "sizemode": "area",
          "sizeref": 1.0525,
          "symbol": "circle"
         },
         "mode": "markers",
         "name": "Morocco",
         "showlegend": true,
         "type": "scattergeo"
        },
        {
         "geo": "geo",
         "hovertemplate": "Country=%{location}<br>AQI Value=%{marker.size}<extra></extra>",
         "legendgroup": "Mozambique",
         "locationmode": "country names",
         "locations": [
          "Mozambique"
         ],
         "marker": {
          "color": "#19d3f3",
          "size": [
           39
          ],
          "sizemode": "area",
          "sizeref": 1.0525,
          "symbol": "circle"
         },
         "mode": "markers",
         "name": "Mozambique",
         "showlegend": true,
         "type": "scattergeo"
        },
        {
         "geo": "geo",
         "hovertemplate": "Country=%{location}<br>AQI Value=%{marker.size}<extra></extra>",
         "legendgroup": "Myanmar",
         "locationmode": "country names",
         "locations": [
          "Myanmar"
         ],
         "marker": {
          "color": "#FF6692",
          "size": [
           23
          ],
          "sizemode": "area",
          "sizeref": 1.0525,
          "symbol": "circle"
         },
         "mode": "markers",
         "name": "Myanmar",
         "showlegend": true,
         "type": "scattergeo"
        },
        {
         "geo": "geo",
         "hovertemplate": "Country=%{location}<br>AQI Value=%{marker.size}<extra></extra>",
         "legendgroup": "Namibia",
         "locationmode": "country names",
         "locations": [
          "Namibia"
         ],
         "marker": {
          "color": "#B6E880",
          "size": [
           19
          ],
          "sizemode": "area",
          "sizeref": 1.0525,
          "symbol": "circle"
         },
         "mode": "markers",
         "name": "Namibia",
         "showlegend": true,
         "type": "scattergeo"
        },
        {
         "geo": "geo",
         "hovertemplate": "Country=%{location}<br>AQI Value=%{marker.size}<extra></extra>",
         "legendgroup": "Nepal",
         "locationmode": "country names",
         "locations": [
          "Nepal"
         ],
         "marker": {
          "color": "#FF97FF",
          "size": [
           121
          ],
          "sizemode": "area",
          "sizeref": 1.0525,
          "symbol": "circle"
         },
         "mode": "markers",
         "name": "Nepal",
         "showlegend": true,
         "type": "scattergeo"
        },
        {
         "geo": "geo",
         "hovertemplate": "Country=%{location}<br>AQI Value=%{marker.size}<extra></extra>",
         "legendgroup": "Netherlands",
         "locationmode": "country names",
         "locations": [
          "Netherlands"
         ],
         "marker": {
          "color": "#FECB52",
          "size": [
           37
          ],
          "sizemode": "area",
          "sizeref": 1.0525,
          "symbol": "circle"
         },
         "mode": "markers",
         "name": "Netherlands",
         "showlegend": true,
         "type": "scattergeo"
        },
        {
         "geo": "geo",
         "hovertemplate": "Country=%{location}<br>AQI Value=%{marker.size}<extra></extra>",
         "legendgroup": "New Zealand",
         "locationmode": "country names",
         "locations": [
          "New Zealand"
         ],
         "marker": {
          "color": "#636efa",
          "size": [
           14
          ],
          "sizemode": "area",
          "sizeref": 1.0525,
          "symbol": "circle"
         },
         "mode": "markers",
         "name": "New Zealand",
         "showlegend": true,
         "type": "scattergeo"
        },
        {
         "geo": "geo",
         "hovertemplate": "Country=%{location}<br>AQI Value=%{marker.size}<extra></extra>",
         "legendgroup": "Nicaragua",
         "locationmode": "country names",
         "locations": [
          "Nicaragua"
         ],
         "marker": {
          "color": "#EF553B",
          "size": [
           31
          ],
          "sizemode": "area",
          "sizeref": 1.0525,
          "symbol": "circle"
         },
         "mode": "markers",
         "name": "Nicaragua",
         "showlegend": true,
         "type": "scattergeo"
        },
        {
         "geo": "geo",
         "hovertemplate": "Country=%{location}<br>AQI Value=%{marker.size}<extra></extra>",
         "legendgroup": "Niger",
         "locationmode": "country names",
         "locations": [
          "Niger"
         ],
         "marker": {
          "color": "#00cc96",
          "size": [
           82
          ],
          "sizemode": "area",
          "sizeref": 1.0525,
          "symbol": "circle"
         },
         "mode": "markers",
         "name": "Niger",
         "showlegend": true,
         "type": "scattergeo"
        },
        {
         "geo": "geo",
         "hovertemplate": "Country=%{location}<br>AQI Value=%{marker.size}<extra></extra>",
         "legendgroup": "Nigeria",
         "locationmode": "country names",
         "locations": [
          "Nigeria"
         ],
         "marker": {
          "color": "#ab63fa",
          "size": [
           102
          ],
          "sizemode": "area",
          "sizeref": 1.0525,
          "symbol": "circle"
         },
         "mode": "markers",
         "name": "Nigeria",
         "showlegend": true,
         "type": "scattergeo"
        },
        {
         "geo": "geo",
         "hovertemplate": "Country=%{location}<br>AQI Value=%{marker.size}<extra></extra>",
         "legendgroup": "Norway",
         "locationmode": "country names",
         "locations": [
          "Norway"
         ],
         "marker": {
          "color": "#FFA15A",
          "size": [
           25
          ],
          "sizemode": "area",
          "sizeref": 1.0525,
          "symbol": "circle"
         },
         "mode": "markers",
         "name": "Norway",
         "showlegend": true,
         "type": "scattergeo"
        },
        {
         "geo": "geo",
         "hovertemplate": "Country=%{location}<br>AQI Value=%{marker.size}<extra></extra>",
         "legendgroup": "Oman",
         "locationmode": "country names",
         "locations": [
          "Oman"
         ],
         "marker": {
          "color": "#19d3f3",
          "size": [
           155
          ],
          "sizemode": "area",
          "sizeref": 1.0525,
          "symbol": "circle"
         },
         "mode": "markers",
         "name": "Oman",
         "showlegend": true,
         "type": "scattergeo"
        },
        {
         "geo": "geo",
         "hovertemplate": "Country=%{location}<br>AQI Value=%{marker.size}<extra></extra>",
         "legendgroup": "Pakistan",
         "locationmode": "country names",
         "locations": [
          "Pakistan"
         ],
         "marker": {
          "color": "#FF6692",
          "size": [
           229
          ],
          "sizemode": "area",
          "sizeref": 1.0525,
          "symbol": "circle"
         },
         "mode": "markers",
         "name": "Pakistan",
         "showlegend": true,
         "type": "scattergeo"
        },
        {
         "geo": "geo",
         "hovertemplate": "Country=%{location}<br>AQI Value=%{marker.size}<extra></extra>",
         "legendgroup": "Palau",
         "locationmode": "country names",
         "locations": [
          "Palau"
         ],
         "marker": {
          "color": "#B6E880",
          "size": [
           16
          ],
          "sizemode": "area",
          "sizeref": 1.0525,
          "symbol": "circle"
         },
         "mode": "markers",
         "name": "Palau",
         "showlegend": true,
         "type": "scattergeo"
        },
        {
         "geo": "geo",
         "hovertemplate": "Country=%{location}<br>AQI Value=%{marker.size}<extra></extra>",
         "legendgroup": "Panama",
         "locationmode": "country names",
         "locations": [
          "Panama"
         ],
         "marker": {
          "color": "#FF97FF",
          "size": [
           34
          ],
          "sizemode": "area",
          "sizeref": 1.0525,
          "symbol": "circle"
         },
         "mode": "markers",
         "name": "Panama",
         "showlegend": true,
         "type": "scattergeo"
        },
        {
         "geo": "geo",
         "hovertemplate": "Country=%{location}<br>AQI Value=%{marker.size}<extra></extra>",
         "legendgroup": "Papua New Guinea",
         "locationmode": "country names",
         "locations": [
          "Papua New Guinea"
         ],
         "marker": {
          "color": "#FECB52",
          "size": [
           19
          ],
          "sizemode": "area",
          "sizeref": 1.0525,
          "symbol": "circle"
         },
         "mode": "markers",
         "name": "Papua New Guinea",
         "showlegend": true,
         "type": "scattergeo"
        },
        {
         "geo": "geo",
         "hovertemplate": "Country=%{location}<br>AQI Value=%{marker.size}<extra></extra>",
         "legendgroup": "Paraguay",
         "locationmode": "country names",
         "locations": [
          "Paraguay"
         ],
         "marker": {
          "color": "#636efa",
          "size": [
           96
          ],
          "sizemode": "area",
          "sizeref": 1.0525,
          "symbol": "circle"
         },
         "mode": "markers",
         "name": "Paraguay",
         "showlegend": true,
         "type": "scattergeo"
        },
        {
         "geo": "geo",
         "hovertemplate": "Country=%{location}<br>AQI Value=%{marker.size}<extra></extra>",
         "legendgroup": "Peru",
         "locationmode": "country names",
         "locations": [
          "Peru"
         ],
         "marker": {
          "color": "#EF553B",
          "size": [
           81
          ],
          "sizemode": "area",
          "sizeref": 1.0525,
          "symbol": "circle"
         },
         "mode": "markers",
         "name": "Peru",
         "showlegend": true,
         "type": "scattergeo"
        },
        {
         "geo": "geo",
         "hovertemplate": "Country=%{location}<br>AQI Value=%{marker.size}<extra></extra>",
         "legendgroup": "Philippines",
         "locationmode": "country names",
         "locations": [
          "Philippines"
         ],
         "marker": {
          "color": "#00cc96",
          "size": [
           75
          ],
          "sizemode": "area",
          "sizeref": 1.0525,
          "symbol": "circle"
         },
         "mode": "markers",
         "name": "Philippines",
         "showlegend": true,
         "type": "scattergeo"
        },
        {
         "geo": "geo",
         "hovertemplate": "Country=%{location}<br>AQI Value=%{marker.size}<extra></extra>",
         "legendgroup": "Poland",
         "locationmode": "country names",
         "locations": [
          "Poland"
         ],
         "marker": {
          "color": "#ab63fa",
          "size": [
           61
          ],
          "sizemode": "area",
          "sizeref": 1.0525,
          "symbol": "circle"
         },
         "mode": "markers",
         "name": "Poland",
         "showlegend": true,
         "type": "scattergeo"
        },
        {
         "geo": "geo",
         "hovertemplate": "Country=%{location}<br>AQI Value=%{marker.size}<extra></extra>",
         "legendgroup": "Portugal",
         "locationmode": "country names",
         "locations": [
          "Portugal"
         ],
         "marker": {
          "color": "#FFA15A",
          "size": [
           41
          ],
          "sizemode": "area",
          "sizeref": 1.0525,
          "symbol": "circle"
         },
         "mode": "markers",
         "name": "Portugal",
         "showlegend": true,
         "type": "scattergeo"
        },
        {
         "geo": "geo",
         "hovertemplate": "Country=%{location}<br>AQI Value=%{marker.size}<extra></extra>",
         "legendgroup": "Qatar",
         "locationmode": "country names",
         "locations": [
          "Qatar"
         ],
         "marker": {
          "color": "#19d3f3",
          "size": [
           164
          ],
          "sizemode": "area",
          "sizeref": 1.0525,
          "symbol": "circle"
         },
         "mode": "markers",
         "name": "Qatar",
         "showlegend": true,
         "type": "scattergeo"
        },
        {
         "geo": "geo",
         "hovertemplate": "Country=%{location}<br>AQI Value=%{marker.size}<extra></extra>",
         "legendgroup": "Republic of Korea",
         "locationmode": "country names",
         "locations": [
          "Republic of Korea"
         ],
         "marker": {
          "color": "#FF6692",
          "size": [
           421
          ],
          "sizemode": "area",
          "sizeref": 1.0525,
          "symbol": "circle"
         },
         "mode": "markers",
         "name": "Republic of Korea",
         "showlegend": true,
         "type": "scattergeo"
        },
        {
         "geo": "geo",
         "hovertemplate": "Country=%{location}<br>AQI Value=%{marker.size}<extra></extra>",
         "legendgroup": "Republic of Moldova",
         "locationmode": "country names",
         "locations": [
          "Republic of Moldova"
         ],
         "marker": {
          "color": "#B6E880",
          "size": [
           62
          ],
          "sizemode": "area",
          "sizeref": 1.0525,
          "symbol": "circle"
         },
         "mode": "markers",
         "name": "Republic of Moldova",
         "showlegend": true,
         "type": "scattergeo"
        },
        {
         "geo": "geo",
         "hovertemplate": "Country=%{location}<br>AQI Value=%{marker.size}<extra></extra>",
         "legendgroup": "Republic of North Macedonia",
         "locationmode": "country names",
         "locations": [
          "Republic of North Macedonia"
         ],
         "marker": {
          "color": "#FF97FF",
          "size": [
           56
          ],
          "sizemode": "area",
          "sizeref": 1.0525,
          "symbol": "circle"
         },
         "mode": "markers",
         "name": "Republic of North Macedonia",
         "showlegend": true,
         "type": "scattergeo"
        },
        {
         "geo": "geo",
         "hovertemplate": "Country=%{location}<br>AQI Value=%{marker.size}<extra></extra>",
         "legendgroup": "Romania",
         "locationmode": "country names",
         "locations": [
          "Romania"
         ],
         "marker": {
          "color": "#FECB52",
          "size": [
           58
          ],
          "sizemode": "area",
          "sizeref": 1.0525,
          "symbol": "circle"
         },
         "mode": "markers",
         "name": "Romania",
         "showlegend": true,
         "type": "scattergeo"
        },
        {
         "geo": "geo",
         "hovertemplate": "Country=%{location}<br>AQI Value=%{marker.size}<extra></extra>",
         "legendgroup": "Russian Federation",
         "locationmode": "country names",
         "locations": [
          "Russian Federation"
         ],
         "marker": {
          "color": "#636efa",
          "size": [
           39
          ],
          "sizemode": "area",
          "sizeref": 1.0525,
          "symbol": "circle"
         },
         "mode": "markers",
         "name": "Russian Federation",
         "showlegend": true,
         "type": "scattergeo"
        },
        {
         "geo": "geo",
         "hovertemplate": "Country=%{location}<br>AQI Value=%{marker.size}<extra></extra>",
         "legendgroup": "Rwanda",
         "locationmode": "country names",
         "locations": [
          "Rwanda"
         ],
         "marker": {
          "color": "#EF553B",
          "size": [
           87
          ],
          "sizemode": "area",
          "sizeref": 1.0525,
          "symbol": "circle"
         },
         "mode": "markers",
         "name": "Rwanda",
         "showlegend": true,
         "type": "scattergeo"
        },
        {
         "geo": "geo",
         "hovertemplate": "Country=%{location}<br>AQI Value=%{marker.size}<extra></extra>",
         "legendgroup": "Saint Kitts and Nevis",
         "locationmode": "country names",
         "locations": [
          "Saint Kitts and Nevis"
         ],
         "marker": {
          "color": "#00cc96",
          "size": [
           90
          ],
          "sizemode": "area",
          "sizeref": 1.0525,
          "symbol": "circle"
         },
         "mode": "markers",
         "name": "Saint Kitts and Nevis",
         "showlegend": true,
         "type": "scattergeo"
        },
        {
         "geo": "geo",
         "hovertemplate": "Country=%{location}<br>AQI Value=%{marker.size}<extra></extra>",
         "legendgroup": "Saint Lucia",
         "locationmode": "country names",
         "locations": [
          "Saint Lucia"
         ],
         "marker": {
          "color": "#ab63fa",
          "size": [
           79
          ],
          "sizemode": "area",
          "sizeref": 1.0525,
          "symbol": "circle"
         },
         "mode": "markers",
         "name": "Saint Lucia",
         "showlegend": true,
         "type": "scattergeo"
        },
        {
         "geo": "geo",
         "hovertemplate": "Country=%{location}<br>AQI Value=%{marker.size}<extra></extra>",
         "legendgroup": "Saudi Arabia",
         "locationmode": "country names",
         "locations": [
          "Saudi Arabia"
         ],
         "marker": {
          "color": "#FFA15A",
          "size": [
           144
          ],
          "sizemode": "area",
          "sizeref": 1.0525,
          "symbol": "circle"
         },
         "mode": "markers",
         "name": "Saudi Arabia",
         "showlegend": true,
         "type": "scattergeo"
        },
        {
         "geo": "geo",
         "hovertemplate": "Country=%{location}<br>AQI Value=%{marker.size}<extra></extra>",
         "legendgroup": "Senegal",
         "locationmode": "country names",
         "locations": [
          "Senegal"
         ],
         "marker": {
          "color": "#19d3f3",
          "size": [
           157
          ],
          "sizemode": "area",
          "sizeref": 1.0525,
          "symbol": "circle"
         },
         "mode": "markers",
         "name": "Senegal",
         "showlegend": true,
         "type": "scattergeo"
        },
        {
         "geo": "geo",
         "hovertemplate": "Country=%{location}<br>AQI Value=%{marker.size}<extra></extra>",
         "legendgroup": "Serbia",
         "locationmode": "country names",
         "locations": [
          "Serbia"
         ],
         "marker": {
          "color": "#FF6692",
          "size": [
           63
          ],
          "sizemode": "area",
          "sizeref": 1.0525,
          "symbol": "circle"
         },
         "mode": "markers",
         "name": "Serbia",
         "showlegend": true,
         "type": "scattergeo"
        },
        {
         "geo": "geo",
         "hovertemplate": "Country=%{location}<br>AQI Value=%{marker.size}<extra></extra>",
         "legendgroup": "Seychelles",
         "locationmode": "country names",
         "locations": [
          "Seychelles"
         ],
         "marker": {
          "color": "#B6E880",
          "size": [
           26
          ],
          "sizemode": "area",
          "sizeref": 1.0525,
          "symbol": "circle"
         },
         "mode": "markers",
         "name": "Seychelles",
         "showlegend": true,
         "type": "scattergeo"
        },
        {
         "geo": "geo",
         "hovertemplate": "Country=%{location}<br>AQI Value=%{marker.size}<extra></extra>",
         "legendgroup": "Sierra Leone",
         "locationmode": "country names",
         "locations": [
          "Sierra Leone"
         ],
         "marker": {
          "color": "#FF97FF",
          "size": [
           18
          ],
          "sizemode": "area",
          "sizeref": 1.0525,
          "symbol": "circle"
         },
         "mode": "markers",
         "name": "Sierra Leone",
         "showlegend": true,
         "type": "scattergeo"
        },
        {
         "geo": "geo",
         "hovertemplate": "Country=%{location}<br>AQI Value=%{marker.size}<extra></extra>",
         "legendgroup": "Singapore",
         "locationmode": "country names",
         "locations": [
          "Singapore"
         ],
         "marker": {
          "color": "#FECB52",
          "size": [
           91
          ],
          "sizemode": "area",
          "sizeref": 1.0525,
          "symbol": "circle"
         },
         "mode": "markers",
         "name": "Singapore",
         "showlegend": true,
         "type": "scattergeo"
        },
        {
         "geo": "geo",
         "hovertemplate": "Country=%{location}<br>AQI Value=%{marker.size}<extra></extra>",
         "legendgroup": "Slovakia",
         "locationmode": "country names",
         "locations": [
          "Slovakia"
         ],
         "marker": {
          "color": "#636efa",
          "size": [
           89
          ],
          "sizemode": "area",
          "sizeref": 1.0525,
          "symbol": "circle"
         },
         "mode": "markers",
         "name": "Slovakia",
         "showlegend": true,
         "type": "scattergeo"
        },
        {
         "geo": "geo",
         "hovertemplate": "Country=%{location}<br>AQI Value=%{marker.size}<extra></extra>",
         "legendgroup": "Slovenia",
         "locationmode": "country names",
         "locations": [
          "Slovenia"
         ],
         "marker": {
          "color": "#EF553B",
          "size": [
           64
          ],
          "sizemode": "area",
          "sizeref": 1.0525,
          "symbol": "circle"
         },
         "mode": "markers",
         "name": "Slovenia",
         "showlegend": true,
         "type": "scattergeo"
        },
        {
         "geo": "geo",
         "hovertemplate": "Country=%{location}<br>AQI Value=%{marker.size}<extra></extra>",
         "legendgroup": "Solomon Islands",
         "locationmode": "country names",
         "locations": [
          "Solomon Islands"
         ],
         "marker": {
          "color": "#00cc96",
          "size": [
           18
          ],
          "sizemode": "area",
          "sizeref": 1.0525,
          "symbol": "circle"
         },
         "mode": "markers",
         "name": "Solomon Islands",
         "showlegend": true,
         "type": "scattergeo"
        },
        {
         "geo": "geo",
         "hovertemplate": "Country=%{location}<br>AQI Value=%{marker.size}<extra></extra>",
         "legendgroup": "Somalia",
         "locationmode": "country names",
         "locations": [
          "Somalia"
         ],
         "marker": {
          "color": "#ab63fa",
          "size": [
           33
          ],
          "sizemode": "area",
          "sizeref": 1.0525,
          "symbol": "circle"
         },
         "mode": "markers",
         "name": "Somalia",
         "showlegend": true,
         "type": "scattergeo"
        },
        {
         "geo": "geo",
         "hovertemplate": "Country=%{location}<br>AQI Value=%{marker.size}<extra></extra>",
         "legendgroup": "South Africa",
         "locationmode": "country names",
         "locations": [
          "South Africa"
         ],
         "marker": {
          "color": "#FFA15A",
          "size": [
           35
          ],
          "sizemode": "area",
          "sizeref": 1.0525,
          "symbol": "circle"
         },
         "mode": "markers",
         "name": "South Africa",
         "showlegend": true,
         "type": "scattergeo"
        },
        {
         "geo": "geo",
         "hovertemplate": "Country=%{location}<br>AQI Value=%{marker.size}<extra></extra>",
         "legendgroup": "South Sudan",
         "locationmode": "country names",
         "locations": [
          "South Sudan"
         ],
         "marker": {
          "color": "#19d3f3",
          "size": [
           65
          ],
          "sizemode": "area",
          "sizeref": 1.0525,
          "symbol": "circle"
         },
         "mode": "markers",
         "name": "South Sudan",
         "showlegend": true,
         "type": "scattergeo"
        },
        {
         "geo": "geo",
         "hovertemplate": "Country=%{location}<br>AQI Value=%{marker.size}<extra></extra>",
         "legendgroup": "Spain",
         "locationmode": "country names",
         "locations": [
          "Spain"
         ],
         "marker": {
          "color": "#FF6692",
          "size": [
           59
          ],
          "sizemode": "area",
          "sizeref": 1.0525,
          "symbol": "circle"
         },
         "mode": "markers",
         "name": "Spain",
         "showlegend": true,
         "type": "scattergeo"
        },
        {
         "geo": "geo",
         "hovertemplate": "Country=%{location}<br>AQI Value=%{marker.size}<extra></extra>",
         "legendgroup": "Sri Lanka",
         "locationmode": "country names",
         "locations": [
          "Sri Lanka"
         ],
         "marker": {
          "color": "#B6E880",
          "size": [
           47
          ],
          "sizemode": "area",
          "sizeref": 1.0525,
          "symbol": "circle"
         },
         "mode": "markers",
         "name": "Sri Lanka",
         "showlegend": true,
         "type": "scattergeo"
        },
        {
         "geo": "geo",
         "hovertemplate": "Country=%{location}<br>AQI Value=%{marker.size}<extra></extra>",
         "legendgroup": "State of Palestine",
         "locationmode": "country names",
         "locations": [
          "State of Palestine"
         ],
         "marker": {
          "color": "#FF97FF",
          "size": [
           86
          ],
          "sizemode": "area",
          "sizeref": 1.0525,
          "symbol": "circle"
         },
         "mode": "markers",
         "name": "State of Palestine",
         "showlegend": true,
         "type": "scattergeo"
        },
        {
         "geo": "geo",
         "hovertemplate": "Country=%{location}<br>AQI Value=%{marker.size}<extra></extra>",
         "legendgroup": "Sudan",
         "locationmode": "country names",
         "locations": [
          "Sudan"
         ],
         "marker": {
          "color": "#FECB52",
          "size": [
           57
          ],
          "sizemode": "area",
          "sizeref": 1.0525,
          "symbol": "circle"
         },
         "mode": "markers",
         "name": "Sudan",
         "showlegend": true,
         "type": "scattergeo"
        },
        {
         "geo": "geo",
         "hovertemplate": "Country=%{location}<br>AQI Value=%{marker.size}<extra></extra>",
         "legendgroup": "Suriname",
         "locationmode": "country names",
         "locations": [
          "Suriname"
         ],
         "marker": {
          "color": "#636efa",
          "size": [
           44
          ],
          "sizemode": "area",
          "sizeref": 1.0525,
          "symbol": "circle"
         },
         "mode": "markers",
         "name": "Suriname",
         "showlegend": true,
         "type": "scattergeo"
        },
        {
         "geo": "geo",
         "hovertemplate": "Country=%{location}<br>AQI Value=%{marker.size}<extra></extra>",
         "legendgroup": "Sweden",
         "locationmode": "country names",
         "locations": [
          "Sweden"
         ],
         "marker": {
          "color": "#EF553B",
          "size": [
           41
          ],
          "sizemode": "area",
          "sizeref": 1.0525,
          "symbol": "circle"
         },
         "mode": "markers",
         "name": "Sweden",
         "showlegend": true,
         "type": "scattergeo"
        },
        {
         "geo": "geo",
         "hovertemplate": "Country=%{location}<br>AQI Value=%{marker.size}<extra></extra>",
         "legendgroup": "Switzerland",
         "locationmode": "country names",
         "locations": [
          "Switzerland"
         ],
         "marker": {
          "color": "#00cc96",
          "size": [
           63
          ],
          "sizemode": "area",
          "sizeref": 1.0525,
          "symbol": "circle"
         },
         "mode": "markers",
         "name": "Switzerland",
         "showlegend": true,
         "type": "scattergeo"
        },
        {
         "geo": "geo",
         "hovertemplate": "Country=%{location}<br>AQI Value=%{marker.size}<extra></extra>",
         "legendgroup": "Syrian Arab Republic",
         "locationmode": "country names",
         "locations": [
          "Syrian Arab Republic"
         ],
         "marker": {
          "color": "#ab63fa",
          "size": [
           56
          ],
          "sizemode": "area",
          "sizeref": 1.0525,
          "symbol": "circle"
         },
         "mode": "markers",
         "name": "Syrian Arab Republic",
         "showlegend": true,
         "type": "scattergeo"
        },
        {
         "geo": "geo",
         "hovertemplate": "Country=%{location}<br>AQI Value=%{marker.size}<extra></extra>",
         "legendgroup": "Tajikistan",
         "locationmode": "country names",
         "locations": [
          "Tajikistan"
         ],
         "marker": {
          "color": "#FFA15A",
          "size": [
           90
          ],
          "sizemode": "area",
          "sizeref": 1.0525,
          "symbol": "circle"
         },
         "mode": "markers",
         "name": "Tajikistan",
         "showlegend": true,
         "type": "scattergeo"
        },
        {
         "geo": "geo",
         "hovertemplate": "Country=%{location}<br>AQI Value=%{marker.size}<extra></extra>",
         "legendgroup": "Thailand",
         "locationmode": "country names",
         "locations": [
          "Thailand"
         ],
         "marker": {
          "color": "#19d3f3",
          "size": [
           57
          ],
          "sizemode": "area",
          "sizeref": 1.0525,
          "symbol": "circle"
         },
         "mode": "markers",
         "name": "Thailand",
         "showlegend": true,
         "type": "scattergeo"
        },
        {
         "geo": "geo",
         "hovertemplate": "Country=%{location}<br>AQI Value=%{marker.size}<extra></extra>",
         "legendgroup": "Togo",
         "locationmode": "country names",
         "locations": [
          "Togo"
         ],
         "marker": {
          "color": "#FF6692",
          "size": [
           59
          ],
          "sizemode": "area",
          "sizeref": 1.0525,
          "symbol": "circle"
         },
         "mode": "markers",
         "name": "Togo",
         "showlegend": true,
         "type": "scattergeo"
        },
        {
         "geo": "geo",
         "hovertemplate": "Country=%{location}<br>AQI Value=%{marker.size}<extra></extra>",
         "legendgroup": "Trinidad and Tobago",
         "locationmode": "country names",
         "locations": [
          "Trinidad and Tobago"
         ],
         "marker": {
          "color": "#B6E880",
          "size": [
           63
          ],
          "sizemode": "area",
          "sizeref": 1.0525,
          "symbol": "circle"
         },
         "mode": "markers",
         "name": "Trinidad and Tobago",
         "showlegend": true,
         "type": "scattergeo"
        },
        {
         "geo": "geo",
         "hovertemplate": "Country=%{location}<br>AQI Value=%{marker.size}<extra></extra>",
         "legendgroup": "Tunisia",
         "locationmode": "country names",
         "locations": [
          "Tunisia"
         ],
         "marker": {
          "color": "#FF97FF",
          "size": [
           49
          ],
          "sizemode": "area",
          "sizeref": 1.0525,
          "symbol": "circle"
         },
         "mode": "markers",
         "name": "Tunisia",
         "showlegend": true,
         "type": "scattergeo"
        },
        {
         "geo": "geo",
         "hovertemplate": "Country=%{location}<br>AQI Value=%{marker.size}<extra></extra>",
         "legendgroup": "Turkey",
         "locationmode": "country names",
         "locations": [
          "Turkey"
         ],
         "marker": {
          "color": "#FECB52",
          "size": [
           42
          ],
          "sizemode": "area",
          "sizeref": 1.0525,
          "symbol": "circle"
         },
         "mode": "markers",
         "name": "Turkey",
         "showlegend": true,
         "type": "scattergeo"
        },
        {
         "geo": "geo",
         "hovertemplate": "Country=%{location}<br>AQI Value=%{marker.size}<extra></extra>",
         "legendgroup": "Turkmenistan",
         "locationmode": "country names",
         "locations": [
          "Turkmenistan"
         ],
         "marker": {
          "color": "#636efa",
          "size": [
           78
          ],
          "sizemode": "area",
          "sizeref": 1.0525,
          "symbol": "circle"
         },
         "mode": "markers",
         "name": "Turkmenistan",
         "showlegend": true,
         "type": "scattergeo"
        },
        {
         "geo": "geo",
         "hovertemplate": "Country=%{location}<br>AQI Value=%{marker.size}<extra></extra>",
         "legendgroup": "Uganda",
         "locationmode": "country names",
         "locations": [
          "Uganda"
         ],
         "marker": {
          "color": "#EF553B",
          "size": [
           54
          ],
          "sizemode": "area",
          "sizeref": 1.0525,
          "symbol": "circle"
         },
         "mode": "markers",
         "name": "Uganda",
         "showlegend": true,
         "type": "scattergeo"
        },
        {
         "geo": "geo",
         "hovertemplate": "Country=%{location}<br>AQI Value=%{marker.size}<extra></extra>",
         "legendgroup": "Ukraine",
         "locationmode": "country names",
         "locations": [
          "Ukraine"
         ],
         "marker": {
          "color": "#00cc96",
          "size": [
           41
          ],
          "sizemode": "area",
          "sizeref": 1.0525,
          "symbol": "circle"
         },
         "mode": "markers",
         "name": "Ukraine",
         "showlegend": true,
         "type": "scattergeo"
        },
        {
         "geo": "geo",
         "hovertemplate": "Country=%{location}<br>AQI Value=%{marker.size}<extra></extra>",
         "legendgroup": "United Arab Emirates",
         "locationmode": "country names",
         "locations": [
          "United Arab Emirates"
         ],
         "marker": {
          "color": "#ab63fa",
          "size": [
           170
          ],
          "sizemode": "area",
          "sizeref": 1.0525,
          "symbol": "circle"
         },
         "mode": "markers",
         "name": "United Arab Emirates",
         "showlegend": true,
         "type": "scattergeo"
        },
        {
         "geo": "geo",
         "hovertemplate": "Country=%{location}<br>AQI Value=%{marker.size}<extra></extra>",
         "legendgroup": "United Kingdom of Great Britain and Northern Ireland",
         "locationmode": "country names",
         "locations": [
          "United Kingdom of Great Britain and Northern Ireland"
         ],
         "marker": {
          "color": "#FFA15A",
          "size": [
           27
          ],
          "sizemode": "area",
          "sizeref": 1.0525,
          "symbol": "circle"
         },
         "mode": "markers",
         "name": "United Kingdom of Great Britain and Northern Ireland",
         "showlegend": true,
         "type": "scattergeo"
        },
        {
         "geo": "geo",
         "hovertemplate": "Country=%{location}<br>AQI Value=%{marker.size}<extra></extra>",
         "legendgroup": "United Republic of Tanzania",
         "locationmode": "country names",
         "locations": [
          "United Republic of Tanzania"
         ],
         "marker": {
          "color": "#19d3f3",
          "size": [
           36
          ],
          "sizemode": "area",
          "sizeref": 1.0525,
          "symbol": "circle"
         },
         "mode": "markers",
         "name": "United Republic of Tanzania",
         "showlegend": true,
         "type": "scattergeo"
        },
        {
         "geo": "geo",
         "hovertemplate": "Country=%{location}<br>AQI Value=%{marker.size}<extra></extra>",
         "legendgroup": "United States of America",
         "locationmode": "country names",
         "locations": [
          "United States of America"
         ],
         "marker": {
          "color": "#FF6692",
          "size": [
           57
          ],
          "sizemode": "area",
          "sizeref": 1.0525,
          "symbol": "circle"
         },
         "mode": "markers",
         "name": "United States of America",
         "showlegend": true,
         "type": "scattergeo"
        },
        {
         "geo": "geo",
         "hovertemplate": "Country=%{location}<br>AQI Value=%{marker.size}<extra></extra>",
         "legendgroup": "Uruguay",
         "locationmode": "country names",
         "locations": [
          "Uruguay"
         ],
         "marker": {
          "color": "#B6E880",
          "size": [
           18
          ],
          "sizemode": "area",
          "sizeref": 1.0525,
          "symbol": "circle"
         },
         "mode": "markers",
         "name": "Uruguay",
         "showlegend": true,
         "type": "scattergeo"
        },
        {
         "geo": "geo",
         "hovertemplate": "Country=%{location}<br>AQI Value=%{marker.size}<extra></extra>",
         "legendgroup": "Uzbekistan",
         "locationmode": "country names",
         "locations": [
          "Uzbekistan"
         ],
         "marker": {
          "color": "#FF97FF",
          "size": [
           136
          ],
          "sizemode": "area",
          "sizeref": 1.0525,
          "symbol": "circle"
         },
         "mode": "markers",
         "name": "Uzbekistan",
         "showlegend": true,
         "type": "scattergeo"
        },
        {
         "geo": "geo",
         "hovertemplate": "Country=%{location}<br>AQI Value=%{marker.size}<extra></extra>",
         "legendgroup": "Vanuatu",
         "locationmode": "country names",
         "locations": [
          "Vanuatu"
         ],
         "marker": {
          "color": "#FECB52",
          "size": [
           30
          ],
          "sizemode": "area",
          "sizeref": 1.0525,
          "symbol": "circle"
         },
         "mode": "markers",
         "name": "Vanuatu",
         "showlegend": true,
         "type": "scattergeo"
        },
        {
         "geo": "geo",
         "hovertemplate": "Country=%{location}<br>AQI Value=%{marker.size}<extra></extra>",
         "legendgroup": "Venezuela (Bolivarian Republic of)",
         "locationmode": "country names",
         "locations": [
          "Venezuela (Bolivarian Republic of)"
         ],
         "marker": {
          "color": "#636efa",
          "size": [
           150
          ],
          "sizemode": "area",
          "sizeref": 1.0525,
          "symbol": "circle"
         },
         "mode": "markers",
         "name": "Venezuela (Bolivarian Republic of)",
         "showlegend": true,
         "type": "scattergeo"
        },
        {
         "geo": "geo",
         "hovertemplate": "Country=%{location}<br>AQI Value=%{marker.size}<extra></extra>",
         "legendgroup": "Viet Nam",
         "locationmode": "country names",
         "locations": [
          "Viet Nam"
         ],
         "marker": {
          "color": "#EF553B",
          "size": [
           59
          ],
          "sizemode": "area",
          "sizeref": 1.0525,
          "symbol": "circle"
         },
         "mode": "markers",
         "name": "Viet Nam",
         "showlegend": true,
         "type": "scattergeo"
        },
        {
         "geo": "geo",
         "hovertemplate": "Country=%{location}<br>AQI Value=%{marker.size}<extra></extra>",
         "legendgroup": "Yemen",
         "locationmode": "country names",
         "locations": [
          "Yemen"
         ],
         "marker": {
          "color": "#00cc96",
          "size": [
           156
          ],
          "sizemode": "area",
          "sizeref": 1.0525,
          "symbol": "circle"
         },
         "mode": "markers",
         "name": "Yemen",
         "showlegend": true,
         "type": "scattergeo"
        },
        {
         "geo": "geo",
         "hovertemplate": "Country=%{location}<br>AQI Value=%{marker.size}<extra></extra>",
         "legendgroup": "Zambia",
         "locationmode": "country names",
         "locations": [
          "Zambia"
         ],
         "marker": {
          "color": "#ab63fa",
          "size": [
           42
          ],
          "sizemode": "area",
          "sizeref": 1.0525,
          "symbol": "circle"
         },
         "mode": "markers",
         "name": "Zambia",
         "showlegend": true,
         "type": "scattergeo"
        },
        {
         "geo": "geo",
         "hovertemplate": "Country=%{location}<br>AQI Value=%{marker.size}<extra></extra>",
         "legendgroup": "Zimbabwe",
         "locationmode": "country names",
         "locations": [
          "Zimbabwe"
         ],
         "marker": {
          "color": "#FFA15A",
          "size": [
           52
          ],
          "sizemode": "area",
          "sizeref": 1.0525,
          "symbol": "circle"
         },
         "mode": "markers",
         "name": "Zimbabwe",
         "showlegend": true,
         "type": "scattergeo"
        }
       ],
       "layout": {
        "geo": {
         "center": {},
         "domain": {
          "x": [
           0,
           1
          ],
          "y": [
           0,
           1
          ]
         },
         "projection": {
          "type": "orthographic"
         }
        },
        "legend": {
         "itemsizing": "constant",
         "title": {
          "text": "Country"
         },
         "tracegroupgap": 0
        },
        "template": {
         "data": {
          "bar": [
           {
            "error_x": {
             "color": "#2a3f5f"
            },
            "error_y": {
             "color": "#2a3f5f"
            },
            "marker": {
             "line": {
              "color": "#E5ECF6",
              "width": 0.5
             },
             "pattern": {
              "fillmode": "overlay",
              "size": 10,
              "solidity": 0.2
             }
            },
            "type": "bar"
           }
          ],
          "barpolar": [
           {
            "marker": {
             "line": {
              "color": "#E5ECF6",
              "width": 0.5
             },
             "pattern": {
              "fillmode": "overlay",
              "size": 10,
              "solidity": 0.2
             }
            },
            "type": "barpolar"
           }
          ],
          "carpet": [
           {
            "aaxis": {
             "endlinecolor": "#2a3f5f",
             "gridcolor": "white",
             "linecolor": "white",
             "minorgridcolor": "white",
             "startlinecolor": "#2a3f5f"
            },
            "baxis": {
             "endlinecolor": "#2a3f5f",
             "gridcolor": "white",
             "linecolor": "white",
             "minorgridcolor": "white",
             "startlinecolor": "#2a3f5f"
            },
            "type": "carpet"
           }
          ],
          "choropleth": [
           {
            "colorbar": {
             "outlinewidth": 0,
             "ticks": ""
            },
            "type": "choropleth"
           }
          ],
          "contour": [
           {
            "colorbar": {
             "outlinewidth": 0,
             "ticks": ""
            },
            "colorscale": [
             [
              0,
              "#0d0887"
             ],
             [
              0.1111111111111111,
              "#46039f"
             ],
             [
              0.2222222222222222,
              "#7201a8"
             ],
             [
              0.3333333333333333,
              "#9c179e"
             ],
             [
              0.4444444444444444,
              "#bd3786"
             ],
             [
              0.5555555555555556,
              "#d8576b"
             ],
             [
              0.6666666666666666,
              "#ed7953"
             ],
             [
              0.7777777777777778,
              "#fb9f3a"
             ],
             [
              0.8888888888888888,
              "#fdca26"
             ],
             [
              1,
              "#f0f921"
             ]
            ],
            "type": "contour"
           }
          ],
          "contourcarpet": [
           {
            "colorbar": {
             "outlinewidth": 0,
             "ticks": ""
            },
            "type": "contourcarpet"
           }
          ],
          "heatmap": [
           {
            "colorbar": {
             "outlinewidth": 0,
             "ticks": ""
            },
            "colorscale": [
             [
              0,
              "#0d0887"
             ],
             [
              0.1111111111111111,
              "#46039f"
             ],
             [
              0.2222222222222222,
              "#7201a8"
             ],
             [
              0.3333333333333333,
              "#9c179e"
             ],
             [
              0.4444444444444444,
              "#bd3786"
             ],
             [
              0.5555555555555556,
              "#d8576b"
             ],
             [
              0.6666666666666666,
              "#ed7953"
             ],
             [
              0.7777777777777778,
              "#fb9f3a"
             ],
             [
              0.8888888888888888,
              "#fdca26"
             ],
             [
              1,
              "#f0f921"
             ]
            ],
            "type": "heatmap"
           }
          ],
          "heatmapgl": [
           {
            "colorbar": {
             "outlinewidth": 0,
             "ticks": ""
            },
            "colorscale": [
             [
              0,
              "#0d0887"
             ],
             [
              0.1111111111111111,
              "#46039f"
             ],
             [
              0.2222222222222222,
              "#7201a8"
             ],
             [
              0.3333333333333333,
              "#9c179e"
             ],
             [
              0.4444444444444444,
              "#bd3786"
             ],
             [
              0.5555555555555556,
              "#d8576b"
             ],
             [
              0.6666666666666666,
              "#ed7953"
             ],
             [
              0.7777777777777778,
              "#fb9f3a"
             ],
             [
              0.8888888888888888,
              "#fdca26"
             ],
             [
              1,
              "#f0f921"
             ]
            ],
            "type": "heatmapgl"
           }
          ],
          "histogram": [
           {
            "marker": {
             "pattern": {
              "fillmode": "overlay",
              "size": 10,
              "solidity": 0.2
             }
            },
            "type": "histogram"
           }
          ],
          "histogram2d": [
           {
            "colorbar": {
             "outlinewidth": 0,
             "ticks": ""
            },
            "colorscale": [
             [
              0,
              "#0d0887"
             ],
             [
              0.1111111111111111,
              "#46039f"
             ],
             [
              0.2222222222222222,
              "#7201a8"
             ],
             [
              0.3333333333333333,
              "#9c179e"
             ],
             [
              0.4444444444444444,
              "#bd3786"
             ],
             [
              0.5555555555555556,
              "#d8576b"
             ],
             [
              0.6666666666666666,
              "#ed7953"
             ],
             [
              0.7777777777777778,
              "#fb9f3a"
             ],
             [
              0.8888888888888888,
              "#fdca26"
             ],
             [
              1,
              "#f0f921"
             ]
            ],
            "type": "histogram2d"
           }
          ],
          "histogram2dcontour": [
           {
            "colorbar": {
             "outlinewidth": 0,
             "ticks": ""
            },
            "colorscale": [
             [
              0,
              "#0d0887"
             ],
             [
              0.1111111111111111,
              "#46039f"
             ],
             [
              0.2222222222222222,
              "#7201a8"
             ],
             [
              0.3333333333333333,
              "#9c179e"
             ],
             [
              0.4444444444444444,
              "#bd3786"
             ],
             [
              0.5555555555555556,
              "#d8576b"
             ],
             [
              0.6666666666666666,
              "#ed7953"
             ],
             [
              0.7777777777777778,
              "#fb9f3a"
             ],
             [
              0.8888888888888888,
              "#fdca26"
             ],
             [
              1,
              "#f0f921"
             ]
            ],
            "type": "histogram2dcontour"
           }
          ],
          "mesh3d": [
           {
            "colorbar": {
             "outlinewidth": 0,
             "ticks": ""
            },
            "type": "mesh3d"
           }
          ],
          "parcoords": [
           {
            "line": {
             "colorbar": {
              "outlinewidth": 0,
              "ticks": ""
             }
            },
            "type": "parcoords"
           }
          ],
          "pie": [
           {
            "automargin": true,
            "type": "pie"
           }
          ],
          "scatter": [
           {
            "fillpattern": {
             "fillmode": "overlay",
             "size": 10,
             "solidity": 0.2
            },
            "type": "scatter"
           }
          ],
          "scatter3d": [
           {
            "line": {
             "colorbar": {
              "outlinewidth": 0,
              "ticks": ""
             }
            },
            "marker": {
             "colorbar": {
              "outlinewidth": 0,
              "ticks": ""
             }
            },
            "type": "scatter3d"
           }
          ],
          "scattercarpet": [
           {
            "marker": {
             "colorbar": {
              "outlinewidth": 0,
              "ticks": ""
             }
            },
            "type": "scattercarpet"
           }
          ],
          "scattergeo": [
           {
            "marker": {
             "colorbar": {
              "outlinewidth": 0,
              "ticks": ""
             }
            },
            "type": "scattergeo"
           }
          ],
          "scattergl": [
           {
            "marker": {
             "colorbar": {
              "outlinewidth": 0,
              "ticks": ""
             }
            },
            "type": "scattergl"
           }
          ],
          "scattermapbox": [
           {
            "marker": {
             "colorbar": {
              "outlinewidth": 0,
              "ticks": ""
             }
            },
            "type": "scattermapbox"
           }
          ],
          "scatterpolar": [
           {
            "marker": {
             "colorbar": {
              "outlinewidth": 0,
              "ticks": ""
             }
            },
            "type": "scatterpolar"
           }
          ],
          "scatterpolargl": [
           {
            "marker": {
             "colorbar": {
              "outlinewidth": 0,
              "ticks": ""
             }
            },
            "type": "scatterpolargl"
           }
          ],
          "scatterternary": [
           {
            "marker": {
             "colorbar": {
              "outlinewidth": 0,
              "ticks": ""
             }
            },
            "type": "scatterternary"
           }
          ],
          "surface": [
           {
            "colorbar": {
             "outlinewidth": 0,
             "ticks": ""
            },
            "colorscale": [
             [
              0,
              "#0d0887"
             ],
             [
              0.1111111111111111,
              "#46039f"
             ],
             [
              0.2222222222222222,
              "#7201a8"
             ],
             [
              0.3333333333333333,
              "#9c179e"
             ],
             [
              0.4444444444444444,
              "#bd3786"
             ],
             [
              0.5555555555555556,
              "#d8576b"
             ],
             [
              0.6666666666666666,
              "#ed7953"
             ],
             [
              0.7777777777777778,
              "#fb9f3a"
             ],
             [
              0.8888888888888888,
              "#fdca26"
             ],
             [
              1,
              "#f0f921"
             ]
            ],
            "type": "surface"
           }
          ],
          "table": [
           {
            "cells": {
             "fill": {
              "color": "#EBF0F8"
             },
             "line": {
              "color": "white"
             }
            },
            "header": {
             "fill": {
              "color": "#C8D4E3"
             },
             "line": {
              "color": "white"
             }
            },
            "type": "table"
           }
          ]
         },
         "layout": {
          "annotationdefaults": {
           "arrowcolor": "#2a3f5f",
           "arrowhead": 0,
           "arrowwidth": 1
          },
          "autotypenumbers": "strict",
          "coloraxis": {
           "colorbar": {
            "outlinewidth": 0,
            "ticks": ""
           }
          },
          "colorscale": {
           "diverging": [
            [
             0,
             "#8e0152"
            ],
            [
             0.1,
             "#c51b7d"
            ],
            [
             0.2,
             "#de77ae"
            ],
            [
             0.3,
             "#f1b6da"
            ],
            [
             0.4,
             "#fde0ef"
            ],
            [
             0.5,
             "#f7f7f7"
            ],
            [
             0.6,
             "#e6f5d0"
            ],
            [
             0.7,
             "#b8e186"
            ],
            [
             0.8,
             "#7fbc41"
            ],
            [
             0.9,
             "#4d9221"
            ],
            [
             1,
             "#276419"
            ]
           ],
           "sequential": [
            [
             0,
             "#0d0887"
            ],
            [
             0.1111111111111111,
             "#46039f"
            ],
            [
             0.2222222222222222,
             "#7201a8"
            ],
            [
             0.3333333333333333,
             "#9c179e"
            ],
            [
             0.4444444444444444,
             "#bd3786"
            ],
            [
             0.5555555555555556,
             "#d8576b"
            ],
            [
             0.6666666666666666,
             "#ed7953"
            ],
            [
             0.7777777777777778,
             "#fb9f3a"
            ],
            [
             0.8888888888888888,
             "#fdca26"
            ],
            [
             1,
             "#f0f921"
            ]
           ],
           "sequentialminus": [
            [
             0,
             "#0d0887"
            ],
            [
             0.1111111111111111,
             "#46039f"
            ],
            [
             0.2222222222222222,
             "#7201a8"
            ],
            [
             0.3333333333333333,
             "#9c179e"
            ],
            [
             0.4444444444444444,
             "#bd3786"
            ],
            [
             0.5555555555555556,
             "#d8576b"
            ],
            [
             0.6666666666666666,
             "#ed7953"
            ],
            [
             0.7777777777777778,
             "#fb9f3a"
            ],
            [
             0.8888888888888888,
             "#fdca26"
            ],
            [
             1,
             "#f0f921"
            ]
           ]
          },
          "colorway": [
           "#636efa",
           "#EF553B",
           "#00cc96",
           "#ab63fa",
           "#FFA15A",
           "#19d3f3",
           "#FF6692",
           "#B6E880",
           "#FF97FF",
           "#FECB52"
          ],
          "font": {
           "color": "#2a3f5f"
          },
          "geo": {
           "bgcolor": "white",
           "lakecolor": "white",
           "landcolor": "#E5ECF6",
           "showlakes": true,
           "showland": true,
           "subunitcolor": "white"
          },
          "hoverlabel": {
           "align": "left"
          },
          "hovermode": "closest",
          "mapbox": {
           "style": "light"
          },
          "paper_bgcolor": "white",
          "plot_bgcolor": "#E5ECF6",
          "polar": {
           "angularaxis": {
            "gridcolor": "white",
            "linecolor": "white",
            "ticks": ""
           },
           "bgcolor": "#E5ECF6",
           "radialaxis": {
            "gridcolor": "white",
            "linecolor": "white",
            "ticks": ""
           }
          },
          "scene": {
           "xaxis": {
            "backgroundcolor": "#E5ECF6",
            "gridcolor": "white",
            "gridwidth": 2,
            "linecolor": "white",
            "showbackground": true,
            "ticks": "",
            "zerolinecolor": "white"
           },
           "yaxis": {
            "backgroundcolor": "#E5ECF6",
            "gridcolor": "white",
            "gridwidth": 2,
            "linecolor": "white",
            "showbackground": true,
            "ticks": "",
            "zerolinecolor": "white"
           },
           "zaxis": {
            "backgroundcolor": "#E5ECF6",
            "gridcolor": "white",
            "gridwidth": 2,
            "linecolor": "white",
            "showbackground": true,
            "ticks": "",
            "zerolinecolor": "white"
           }
          },
          "shapedefaults": {
           "line": {
            "color": "#2a3f5f"
           }
          },
          "ternary": {
           "aaxis": {
            "gridcolor": "white",
            "linecolor": "white",
            "ticks": ""
           },
           "baxis": {
            "gridcolor": "white",
            "linecolor": "white",
            "ticks": ""
           },
           "bgcolor": "#E5ECF6",
           "caxis": {
            "gridcolor": "white",
            "linecolor": "white",
            "ticks": ""
           }
          },
          "title": {
           "x": 0.05
          },
          "xaxis": {
           "automargin": true,
           "gridcolor": "white",
           "linecolor": "white",
           "ticks": "",
           "title": {
            "standoff": 15
           },
           "zerolinecolor": "white",
           "zerolinewidth": 2
          },
          "yaxis": {
           "automargin": true,
           "gridcolor": "white",
           "linecolor": "white",
           "ticks": "",
           "title": {
            "standoff": 15
           },
           "zerolinecolor": "white",
           "zerolinewidth": 2
          }
         }
        },
        "title": {
         "text": "AQI value Countries"
        }
       }
      }
     },
     "metadata": {},
     "output_type": "display_data"
    }
   ],
   "source": [
    "fig = px.scatter_geo(global_high_aqi_country_AQI,locations='Country',locationmode='country names',\n",
    "                     size=\"AQI Value\",color='Country',title=\"AQI value Countries\"\n",
    "                     )\n",
    "fig.update_geos(projection_type=\"orthographic\")\n",
    "\n",
    "fig.show()"
   ]
  },
  {
   "cell_type": "code",
   "execution_count": 6,
   "metadata": {},
   "outputs": [],
   "source": [
    "grouped_df = global_data.groupby(['Country'])\n",
    "new_f_df = grouped_df.last()\n",
    "new_f_df.reset_index(inplace = True)"
   ]
  },
  {
   "cell_type": "code",
   "execution_count": 13,
   "metadata": {},
   "outputs": [
    {
     "data": {
      "text/html": [
       "<div>\n",
       "<style scoped>\n",
       "    .dataframe tbody tr th:only-of-type {\n",
       "        vertical-align: middle;\n",
       "    }\n",
       "\n",
       "    .dataframe tbody tr th {\n",
       "        vertical-align: top;\n",
       "    }\n",
       "\n",
       "    .dataframe thead th {\n",
       "        text-align: right;\n",
       "    }\n",
       "</style>\n",
       "<table border=\"1\" class=\"dataframe\">\n",
       "  <thead>\n",
       "    <tr style=\"text-align: right;\">\n",
       "      <th></th>\n",
       "      <th>AQI Category</th>\n",
       "      <th>Number of countries</th>\n",
       "    </tr>\n",
       "  </thead>\n",
       "  <tbody>\n",
       "    <tr>\n",
       "      <th>0</th>\n",
       "      <td>Good</td>\n",
       "      <td>67</td>\n",
       "    </tr>\n",
       "    <tr>\n",
       "      <th>1</th>\n",
       "      <td>Moderate</td>\n",
       "      <td>72</td>\n",
       "    </tr>\n",
       "    <tr>\n",
       "      <th>2</th>\n",
       "      <td>Unhealthy for sensitive groups</td>\n",
       "      <td>17</td>\n",
       "    </tr>\n",
       "    <tr>\n",
       "      <th>3</th>\n",
       "      <td>Very Unhealthy</td>\n",
       "      <td>1</td>\n",
       "    </tr>\n",
       "    <tr>\n",
       "      <th>4</th>\n",
       "      <td>Hazardous</td>\n",
       "      <td>1</td>\n",
       "    </tr>\n",
       "    <tr>\n",
       "      <th>5</th>\n",
       "      <td>Unhealthy</td>\n",
       "      <td>18</td>\n",
       "    </tr>\n",
       "  </tbody>\n",
       "</table>\n",
       "</div>"
      ],
      "text/plain": [
       "                     AQI Category  Number of countries\n",
       "0                            Good                   67\n",
       "1                        Moderate                   72\n",
       "2  Unhealthy for sensitive groups                   17\n",
       "3                  Very Unhealthy                    1\n",
       "4                       Hazardous                    1\n",
       "5                       Unhealthy                   18"
      ]
     },
     "execution_count": 13,
     "metadata": {},
     "output_type": "execute_result"
    }
   ],
   "source": [
    "good = new_f_df[new_f_df['AQI Category'].str.contains(\"Good\")]\n",
    "gd = good.count()\n",
    "Moderate = new_f_df[new_f_df['AQI Category'].str.contains(\"Moderate\")]\n",
    "Poor = new_f_df[new_f_df['AQI Category'].str.startswith(\"Unhealthy for\")]\n",
    "unhealth = new_f_df[new_f_df['AQI Category'].str.endswith(\"Unhealthy\")]\n",
    "Hazardous = new_f_df[new_f_df['AQI Category'].str.contains(\"Hazardous\")]\n",
    "Very_unhealthy = new_f_df[new_f_df['AQI Category'].str.contains(\"Very Unhealthy\")]\n",
    "hd = Hazardous.count()\n",
    "md = Moderate.count()\n",
    "poord = Poor.count()\n",
    "vhd = Very_unhealthy.count()\n",
    "ud = unhealth.count()\n",
    "# sed = Severe.count()\n",
    "list1 = [\"Good\" , \"Moderate\" , \"Unhealthy for sensitive groups\" , \"Very Unhealthy\" , \"Hazardous\" , \"Unhealthy\"]\n",
    "list2 = [gd['AQI Value'] , md['AQI Value'] ,poord['AQI Value'], hd['AQI Value'] ,vhd['AQI Value'] , ud[\"AQI Value\"]]\n",
    "df5 = pd.DataFrame(list(zip(list1,list2)),columns=[\"AQI Category\" , \"Number of countries\"])\n",
    "df5\n"
   ]
  },
  {
   "cell_type": "code",
   "execution_count": 8,
   "metadata": {},
   "outputs": [
    {
     "data": {
      "application/vnd.plotly.v1+json": {
       "config": {
        "plotlyServerURL": "https://plot.ly"
       },
       "data": [
        {
         "domain": {
          "x": [
           0,
           1
          ],
          "y": [
           0,
           1
          ]
         },
         "hovertemplate": "AQI Category=%{label}<br>Number of countries=%{value}<extra></extra>",
         "labels": [
          "Good",
          "Moderate",
          "Unhealthy for sensitive groups",
          "Very Unhealthy",
          "Hazardous",
          "Unhealthy"
         ],
         "legendgroup": "",
         "name": "",
         "showlegend": true,
         "type": "pie",
         "values": [
          67,
          72,
          17,
          1,
          1,
          18
         ]
        }
       ],
       "layout": {
        "legend": {
         "tracegroupgap": 0
        },
        "template": {
         "data": {
          "bar": [
           {
            "error_x": {
             "color": "#2a3f5f"
            },
            "error_y": {
             "color": "#2a3f5f"
            },
            "marker": {
             "line": {
              "color": "#E5ECF6",
              "width": 0.5
             },
             "pattern": {
              "fillmode": "overlay",
              "size": 10,
              "solidity": 0.2
             }
            },
            "type": "bar"
           }
          ],
          "barpolar": [
           {
            "marker": {
             "line": {
              "color": "#E5ECF6",
              "width": 0.5
             },
             "pattern": {
              "fillmode": "overlay",
              "size": 10,
              "solidity": 0.2
             }
            },
            "type": "barpolar"
           }
          ],
          "carpet": [
           {
            "aaxis": {
             "endlinecolor": "#2a3f5f",
             "gridcolor": "white",
             "linecolor": "white",
             "minorgridcolor": "white",
             "startlinecolor": "#2a3f5f"
            },
            "baxis": {
             "endlinecolor": "#2a3f5f",
             "gridcolor": "white",
             "linecolor": "white",
             "minorgridcolor": "white",
             "startlinecolor": "#2a3f5f"
            },
            "type": "carpet"
           }
          ],
          "choropleth": [
           {
            "colorbar": {
             "outlinewidth": 0,
             "ticks": ""
            },
            "type": "choropleth"
           }
          ],
          "contour": [
           {
            "colorbar": {
             "outlinewidth": 0,
             "ticks": ""
            },
            "colorscale": [
             [
              0,
              "#0d0887"
             ],
             [
              0.1111111111111111,
              "#46039f"
             ],
             [
              0.2222222222222222,
              "#7201a8"
             ],
             [
              0.3333333333333333,
              "#9c179e"
             ],
             [
              0.4444444444444444,
              "#bd3786"
             ],
             [
              0.5555555555555556,
              "#d8576b"
             ],
             [
              0.6666666666666666,
              "#ed7953"
             ],
             [
              0.7777777777777778,
              "#fb9f3a"
             ],
             [
              0.8888888888888888,
              "#fdca26"
             ],
             [
              1,
              "#f0f921"
             ]
            ],
            "type": "contour"
           }
          ],
          "contourcarpet": [
           {
            "colorbar": {
             "outlinewidth": 0,
             "ticks": ""
            },
            "type": "contourcarpet"
           }
          ],
          "heatmap": [
           {
            "colorbar": {
             "outlinewidth": 0,
             "ticks": ""
            },
            "colorscale": [
             [
              0,
              "#0d0887"
             ],
             [
              0.1111111111111111,
              "#46039f"
             ],
             [
              0.2222222222222222,
              "#7201a8"
             ],
             [
              0.3333333333333333,
              "#9c179e"
             ],
             [
              0.4444444444444444,
              "#bd3786"
             ],
             [
              0.5555555555555556,
              "#d8576b"
             ],
             [
              0.6666666666666666,
              "#ed7953"
             ],
             [
              0.7777777777777778,
              "#fb9f3a"
             ],
             [
              0.8888888888888888,
              "#fdca26"
             ],
             [
              1,
              "#f0f921"
             ]
            ],
            "type": "heatmap"
           }
          ],
          "heatmapgl": [
           {
            "colorbar": {
             "outlinewidth": 0,
             "ticks": ""
            },
            "colorscale": [
             [
              0,
              "#0d0887"
             ],
             [
              0.1111111111111111,
              "#46039f"
             ],
             [
              0.2222222222222222,
              "#7201a8"
             ],
             [
              0.3333333333333333,
              "#9c179e"
             ],
             [
              0.4444444444444444,
              "#bd3786"
             ],
             [
              0.5555555555555556,
              "#d8576b"
             ],
             [
              0.6666666666666666,
              "#ed7953"
             ],
             [
              0.7777777777777778,
              "#fb9f3a"
             ],
             [
              0.8888888888888888,
              "#fdca26"
             ],
             [
              1,
              "#f0f921"
             ]
            ],
            "type": "heatmapgl"
           }
          ],
          "histogram": [
           {
            "marker": {
             "pattern": {
              "fillmode": "overlay",
              "size": 10,
              "solidity": 0.2
             }
            },
            "type": "histogram"
           }
          ],
          "histogram2d": [
           {
            "colorbar": {
             "outlinewidth": 0,
             "ticks": ""
            },
            "colorscale": [
             [
              0,
              "#0d0887"
             ],
             [
              0.1111111111111111,
              "#46039f"
             ],
             [
              0.2222222222222222,
              "#7201a8"
             ],
             [
              0.3333333333333333,
              "#9c179e"
             ],
             [
              0.4444444444444444,
              "#bd3786"
             ],
             [
              0.5555555555555556,
              "#d8576b"
             ],
             [
              0.6666666666666666,
              "#ed7953"
             ],
             [
              0.7777777777777778,
              "#fb9f3a"
             ],
             [
              0.8888888888888888,
              "#fdca26"
             ],
             [
              1,
              "#f0f921"
             ]
            ],
            "type": "histogram2d"
           }
          ],
          "histogram2dcontour": [
           {
            "colorbar": {
             "outlinewidth": 0,
             "ticks": ""
            },
            "colorscale": [
             [
              0,
              "#0d0887"
             ],
             [
              0.1111111111111111,
              "#46039f"
             ],
             [
              0.2222222222222222,
              "#7201a8"
             ],
             [
              0.3333333333333333,
              "#9c179e"
             ],
             [
              0.4444444444444444,
              "#bd3786"
             ],
             [
              0.5555555555555556,
              "#d8576b"
             ],
             [
              0.6666666666666666,
              "#ed7953"
             ],
             [
              0.7777777777777778,
              "#fb9f3a"
             ],
             [
              0.8888888888888888,
              "#fdca26"
             ],
             [
              1,
              "#f0f921"
             ]
            ],
            "type": "histogram2dcontour"
           }
          ],
          "mesh3d": [
           {
            "colorbar": {
             "outlinewidth": 0,
             "ticks": ""
            },
            "type": "mesh3d"
           }
          ],
          "parcoords": [
           {
            "line": {
             "colorbar": {
              "outlinewidth": 0,
              "ticks": ""
             }
            },
            "type": "parcoords"
           }
          ],
          "pie": [
           {
            "automargin": true,
            "type": "pie"
           }
          ],
          "scatter": [
           {
            "fillpattern": {
             "fillmode": "overlay",
             "size": 10,
             "solidity": 0.2
            },
            "type": "scatter"
           }
          ],
          "scatter3d": [
           {
            "line": {
             "colorbar": {
              "outlinewidth": 0,
              "ticks": ""
             }
            },
            "marker": {
             "colorbar": {
              "outlinewidth": 0,
              "ticks": ""
             }
            },
            "type": "scatter3d"
           }
          ],
          "scattercarpet": [
           {
            "marker": {
             "colorbar": {
              "outlinewidth": 0,
              "ticks": ""
             }
            },
            "type": "scattercarpet"
           }
          ],
          "scattergeo": [
           {
            "marker": {
             "colorbar": {
              "outlinewidth": 0,
              "ticks": ""
             }
            },
            "type": "scattergeo"
           }
          ],
          "scattergl": [
           {
            "marker": {
             "colorbar": {
              "outlinewidth": 0,
              "ticks": ""
             }
            },
            "type": "scattergl"
           }
          ],
          "scattermapbox": [
           {
            "marker": {
             "colorbar": {
              "outlinewidth": 0,
              "ticks": ""
             }
            },
            "type": "scattermapbox"
           }
          ],
          "scatterpolar": [
           {
            "marker": {
             "colorbar": {
              "outlinewidth": 0,
              "ticks": ""
             }
            },
            "type": "scatterpolar"
           }
          ],
          "scatterpolargl": [
           {
            "marker": {
             "colorbar": {
              "outlinewidth": 0,
              "ticks": ""
             }
            },
            "type": "scatterpolargl"
           }
          ],
          "scatterternary": [
           {
            "marker": {
             "colorbar": {
              "outlinewidth": 0,
              "ticks": ""
             }
            },
            "type": "scatterternary"
           }
          ],
          "surface": [
           {
            "colorbar": {
             "outlinewidth": 0,
             "ticks": ""
            },
            "colorscale": [
             [
              0,
              "#0d0887"
             ],
             [
              0.1111111111111111,
              "#46039f"
             ],
             [
              0.2222222222222222,
              "#7201a8"
             ],
             [
              0.3333333333333333,
              "#9c179e"
             ],
             [
              0.4444444444444444,
              "#bd3786"
             ],
             [
              0.5555555555555556,
              "#d8576b"
             ],
             [
              0.6666666666666666,
              "#ed7953"
             ],
             [
              0.7777777777777778,
              "#fb9f3a"
             ],
             [
              0.8888888888888888,
              "#fdca26"
             ],
             [
              1,
              "#f0f921"
             ]
            ],
            "type": "surface"
           }
          ],
          "table": [
           {
            "cells": {
             "fill": {
              "color": "#EBF0F8"
             },
             "line": {
              "color": "white"
             }
            },
            "header": {
             "fill": {
              "color": "#C8D4E3"
             },
             "line": {
              "color": "white"
             }
            },
            "type": "table"
           }
          ]
         },
         "layout": {
          "annotationdefaults": {
           "arrowcolor": "#2a3f5f",
           "arrowhead": 0,
           "arrowwidth": 1
          },
          "autotypenumbers": "strict",
          "coloraxis": {
           "colorbar": {
            "outlinewidth": 0,
            "ticks": ""
           }
          },
          "colorscale": {
           "diverging": [
            [
             0,
             "#8e0152"
            ],
            [
             0.1,
             "#c51b7d"
            ],
            [
             0.2,
             "#de77ae"
            ],
            [
             0.3,
             "#f1b6da"
            ],
            [
             0.4,
             "#fde0ef"
            ],
            [
             0.5,
             "#f7f7f7"
            ],
            [
             0.6,
             "#e6f5d0"
            ],
            [
             0.7,
             "#b8e186"
            ],
            [
             0.8,
             "#7fbc41"
            ],
            [
             0.9,
             "#4d9221"
            ],
            [
             1,
             "#276419"
            ]
           ],
           "sequential": [
            [
             0,
             "#0d0887"
            ],
            [
             0.1111111111111111,
             "#46039f"
            ],
            [
             0.2222222222222222,
             "#7201a8"
            ],
            [
             0.3333333333333333,
             "#9c179e"
            ],
            [
             0.4444444444444444,
             "#bd3786"
            ],
            [
             0.5555555555555556,
             "#d8576b"
            ],
            [
             0.6666666666666666,
             "#ed7953"
            ],
            [
             0.7777777777777778,
             "#fb9f3a"
            ],
            [
             0.8888888888888888,
             "#fdca26"
            ],
            [
             1,
             "#f0f921"
            ]
           ],
           "sequentialminus": [
            [
             0,
             "#0d0887"
            ],
            [
             0.1111111111111111,
             "#46039f"
            ],
            [
             0.2222222222222222,
             "#7201a8"
            ],
            [
             0.3333333333333333,
             "#9c179e"
            ],
            [
             0.4444444444444444,
             "#bd3786"
            ],
            [
             0.5555555555555556,
             "#d8576b"
            ],
            [
             0.6666666666666666,
             "#ed7953"
            ],
            [
             0.7777777777777778,
             "#fb9f3a"
            ],
            [
             0.8888888888888888,
             "#fdca26"
            ],
            [
             1,
             "#f0f921"
            ]
           ]
          },
          "colorway": [
           "#636efa",
           "#EF553B",
           "#00cc96",
           "#ab63fa",
           "#FFA15A",
           "#19d3f3",
           "#FF6692",
           "#B6E880",
           "#FF97FF",
           "#FECB52"
          ],
          "font": {
           "color": "#2a3f5f"
          },
          "geo": {
           "bgcolor": "white",
           "lakecolor": "white",
           "landcolor": "#E5ECF6",
           "showlakes": true,
           "showland": true,
           "subunitcolor": "white"
          },
          "hoverlabel": {
           "align": "left"
          },
          "hovermode": "closest",
          "mapbox": {
           "style": "light"
          },
          "paper_bgcolor": "white",
          "plot_bgcolor": "#E5ECF6",
          "polar": {
           "angularaxis": {
            "gridcolor": "white",
            "linecolor": "white",
            "ticks": ""
           },
           "bgcolor": "#E5ECF6",
           "radialaxis": {
            "gridcolor": "white",
            "linecolor": "white",
            "ticks": ""
           }
          },
          "scene": {
           "xaxis": {
            "backgroundcolor": "#E5ECF6",
            "gridcolor": "white",
            "gridwidth": 2,
            "linecolor": "white",
            "showbackground": true,
            "ticks": "",
            "zerolinecolor": "white"
           },
           "yaxis": {
            "backgroundcolor": "#E5ECF6",
            "gridcolor": "white",
            "gridwidth": 2,
            "linecolor": "white",
            "showbackground": true,
            "ticks": "",
            "zerolinecolor": "white"
           },
           "zaxis": {
            "backgroundcolor": "#E5ECF6",
            "gridcolor": "white",
            "gridwidth": 2,
            "linecolor": "white",
            "showbackground": true,
            "ticks": "",
            "zerolinecolor": "white"
           }
          },
          "shapedefaults": {
           "line": {
            "color": "#2a3f5f"
           }
          },
          "ternary": {
           "aaxis": {
            "gridcolor": "white",
            "linecolor": "white",
            "ticks": ""
           },
           "baxis": {
            "gridcolor": "white",
            "linecolor": "white",
            "ticks": ""
           },
           "bgcolor": "#E5ECF6",
           "caxis": {
            "gridcolor": "white",
            "linecolor": "white",
            "ticks": ""
           }
          },
          "title": {
           "x": 0.05
          },
          "xaxis": {
           "automargin": true,
           "gridcolor": "white",
           "linecolor": "white",
           "ticks": "",
           "title": {
            "standoff": 15
           },
           "zerolinecolor": "white",
           "zerolinewidth": 2
          },
          "yaxis": {
           "automargin": true,
           "gridcolor": "white",
           "linecolor": "white",
           "ticks": "",
           "title": {
            "standoff": 15
           },
           "zerolinecolor": "white",
           "zerolinewidth": 2
          }
         }
        },
        "title": {
         "text": "Countries vs AQI Categories"
        }
       }
      }
     },
     "metadata": {},
     "output_type": "display_data"
    }
   ],
   "source": [
    "fig = px.pie(df5, values='Number of countries', names='AQI Category', title='Countries vs AQI Categories')\n",
    "fig.show()"
   ]
  },
  {
   "cell_type": "code",
   "execution_count": 9,
   "metadata": {},
   "outputs": [
    {
     "data": {
      "application/vnd.plotly.v1+json": {
       "config": {
        "plotlyServerURL": "https://plot.ly"
       },
       "data": [
        {
         "geo": "geo",
         "hovertemplate": "AQI Category=Unhealthy for Sensitive Groups<br>Country=%{location}<extra></extra>",
         "legendgroup": "Unhealthy for Sensitive Groups",
         "locationmode": "country names",
         "locations": [
          "Afghanistan",
          "Algeria",
          "Cuba",
          "Egypt",
          "Gabon",
          "Guatemala",
          "Guinea-Bissau",
          "Haiti",
          "Jamaica",
          "Jordan",
          "Kenya",
          "Kyrgyzstan",
          "Rwanda",
          "Sudan",
          "Trinidad and Tobago",
          "Uganda",
          "Uzbekistan"
         ],
         "marker": {
          "color": "#636efa",
          "symbol": "circle"
         },
         "mode": "markers",
         "name": "Unhealthy for Sensitive Groups",
         "showlegend": true,
         "type": "scattergeo"
        },
        {
         "geo": "geo",
         "hovertemplate": "AQI Category=Good<br>Country=%{location}<extra></extra>",
         "legendgroup": "Good",
         "locationmode": "country names",
         "locations": [
          "Albania",
          "Andorra",
          "Argentina",
          "Australia",
          "Azerbaijan",
          "Bangladesh",
          "Belarus",
          "Belgium",
          "Belize",
          "Bhutan",
          "Bolivia (Plurinational State of)",
          "Bulgaria",
          "Cabo Verde",
          "Canada",
          "Chile",
          "Comoros",
          "Costa Rica",
          "Croatia",
          "Côte d'Ivoire",
          "Denmark",
          "Ecuador",
          "Estonia",
          "Finland",
          "Georgia",
          "Ghana",
          "Guyana",
          "Iceland",
          "Ireland",
          "Italy",
          "Kazakhstan",
          "Lao People's Democratic Republic",
          "Latvia",
          "Liberia",
          "Lithuania",
          "Madagascar",
          "Malawi",
          "Maldives",
          "Mali",
          "Malta",
          "Mauritius",
          "Morocco",
          "Mozambique",
          "Myanmar",
          "Netherlands",
          "New Zealand",
          "Nicaragua",
          "Norway",
          "Palau",
          "Papua New Guinea",
          "Paraguay",
          "Peru",
          "Poland",
          "Portugal",
          "Romania",
          "Russian Federation",
          "Seychelles",
          "Sierra Leone",
          "Solomon Islands",
          "Switzerland",
          "Thailand",
          "Tunisia",
          "Turkey",
          "United Republic of Tanzania",
          "Uruguay",
          "Vanuatu",
          "Zambia",
          "Zimbabwe"
         ],
         "marker": {
          "color": "#EF553B",
          "symbol": "circle"
         },
         "mode": "markers",
         "name": "Good",
         "showlegend": true,
         "type": "scattergeo"
        },
        {
         "geo": "geo",
         "hovertemplate": "AQI Category=Moderate<br>Country=%{location}<extra></extra>",
         "legendgroup": "Moderate",
         "locationmode": "country names",
         "locations": [
          "Angola",
          "Armenia",
          "Austria",
          "Barbados",
          "Benin",
          "Bosnia and Herzegovina",
          "Botswana",
          "Brazil",
          "Burkina Faso",
          "Burundi",
          "Cambodia",
          "Cameroon",
          "Central African Republic",
          "Chad",
          "Colombia",
          "Congo",
          "Cyprus",
          "Czechia",
          "Dominican Republic",
          "Equatorial Guinea",
          "Eritrea",
          "Ethiopia",
          "France",
          "Germany",
          "Greece",
          "Guinea",
          "Honduras",
          "Hungary",
          "Indonesia",
          "Iran (Islamic Republic of)",
          "Israel",
          "Japan",
          "Kingdom of Eswatini",
          "Lebanon",
          "Lesotho",
          "Libya",
          "Luxembourg",
          "Malaysia",
          "Mexico",
          "Monaco",
          "Mongolia",
          "Montenegro",
          "Namibia",
          "Nepal",
          "Niger",
          "Panama",
          "Philippines",
          "Republic of Moldova",
          "Republic of North Macedonia",
          "Saint Kitts and Nevis",
          "Saint Lucia",
          "Saudi Arabia",
          "Serbia",
          "Singapore",
          "Slovakia",
          "Slovenia",
          "Somalia",
          "South Africa",
          "South Sudan",
          "Spain",
          "Sri Lanka",
          "State of Palestine",
          "Suriname",
          "Sweden",
          "Syrian Arab Republic",
          "Tajikistan",
          "Togo",
          "Ukraine",
          "United Kingdom of Great Britain and Northern Ireland",
          "United States of America",
          "Venezuela (Bolivarian Republic of)",
          "Viet Nam"
         ],
         "marker": {
          "color": "#00cc96",
          "symbol": "circle"
         },
         "mode": "markers",
         "name": "Moderate",
         "showlegend": true,
         "type": "scattergeo"
        },
        {
         "geo": "geo",
         "hovertemplate": "AQI Category=Unhealthy<br>Country=%{location}<extra></extra>",
         "legendgroup": "Unhealthy",
         "locationmode": "country names",
         "locations": [
          "Aruba",
          "Bahrain",
          "China",
          "El Salvador",
          "Gambia",
          "India",
          "Iraq",
          "Kuwait",
          "Mauritania",
          "Nigeria",
          "Oman",
          "Pakistan",
          "Qatar",
          "Senegal",
          "Turkmenistan",
          "United Arab Emirates",
          "Yemen"
         ],
         "marker": {
          "color": "#ab63fa",
          "symbol": "circle"
         },
         "mode": "markers",
         "name": "Unhealthy",
         "showlegend": true,
         "type": "scattergeo"
        },
        {
         "geo": "geo",
         "hovertemplate": "AQI Category=Very Unhealthy<br>Country=%{location}<extra></extra>",
         "legendgroup": "Very Unhealthy",
         "locationmode": "country names",
         "locations": [
          "Democratic Republic of the Congo"
         ],
         "marker": {
          "color": "#FFA15A",
          "symbol": "circle"
         },
         "mode": "markers",
         "name": "Very Unhealthy",
         "showlegend": true,
         "type": "scattergeo"
        },
        {
         "geo": "geo",
         "hovertemplate": "AQI Category=Hazardous<br>Country=%{location}<extra></extra>",
         "legendgroup": "Hazardous",
         "locationmode": "country names",
         "locations": [
          "Republic of Korea"
         ],
         "marker": {
          "color": "#19d3f3",
          "symbol": "circle"
         },
         "mode": "markers",
         "name": "Hazardous",
         "showlegend": true,
         "type": "scattergeo"
        }
       ],
       "layout": {
        "geo": {
         "center": {},
         "domain": {
          "x": [
           0,
           1
          ],
          "y": [
           0,
           1
          ]
         },
         "projection": {
          "type": "natural earth"
         }
        },
        "legend": {
         "title": {
          "text": "AQI Category"
         },
         "tracegroupgap": 0
        },
        "template": {
         "data": {
          "bar": [
           {
            "error_x": {
             "color": "#2a3f5f"
            },
            "error_y": {
             "color": "#2a3f5f"
            },
            "marker": {
             "line": {
              "color": "#E5ECF6",
              "width": 0.5
             },
             "pattern": {
              "fillmode": "overlay",
              "size": 10,
              "solidity": 0.2
             }
            },
            "type": "bar"
           }
          ],
          "barpolar": [
           {
            "marker": {
             "line": {
              "color": "#E5ECF6",
              "width": 0.5
             },
             "pattern": {
              "fillmode": "overlay",
              "size": 10,
              "solidity": 0.2
             }
            },
            "type": "barpolar"
           }
          ],
          "carpet": [
           {
            "aaxis": {
             "endlinecolor": "#2a3f5f",
             "gridcolor": "white",
             "linecolor": "white",
             "minorgridcolor": "white",
             "startlinecolor": "#2a3f5f"
            },
            "baxis": {
             "endlinecolor": "#2a3f5f",
             "gridcolor": "white",
             "linecolor": "white",
             "minorgridcolor": "white",
             "startlinecolor": "#2a3f5f"
            },
            "type": "carpet"
           }
          ],
          "choropleth": [
           {
            "colorbar": {
             "outlinewidth": 0,
             "ticks": ""
            },
            "type": "choropleth"
           }
          ],
          "contour": [
           {
            "colorbar": {
             "outlinewidth": 0,
             "ticks": ""
            },
            "colorscale": [
             [
              0,
              "#0d0887"
             ],
             [
              0.1111111111111111,
              "#46039f"
             ],
             [
              0.2222222222222222,
              "#7201a8"
             ],
             [
              0.3333333333333333,
              "#9c179e"
             ],
             [
              0.4444444444444444,
              "#bd3786"
             ],
             [
              0.5555555555555556,
              "#d8576b"
             ],
             [
              0.6666666666666666,
              "#ed7953"
             ],
             [
              0.7777777777777778,
              "#fb9f3a"
             ],
             [
              0.8888888888888888,
              "#fdca26"
             ],
             [
              1,
              "#f0f921"
             ]
            ],
            "type": "contour"
           }
          ],
          "contourcarpet": [
           {
            "colorbar": {
             "outlinewidth": 0,
             "ticks": ""
            },
            "type": "contourcarpet"
           }
          ],
          "heatmap": [
           {
            "colorbar": {
             "outlinewidth": 0,
             "ticks": ""
            },
            "colorscale": [
             [
              0,
              "#0d0887"
             ],
             [
              0.1111111111111111,
              "#46039f"
             ],
             [
              0.2222222222222222,
              "#7201a8"
             ],
             [
              0.3333333333333333,
              "#9c179e"
             ],
             [
              0.4444444444444444,
              "#bd3786"
             ],
             [
              0.5555555555555556,
              "#d8576b"
             ],
             [
              0.6666666666666666,
              "#ed7953"
             ],
             [
              0.7777777777777778,
              "#fb9f3a"
             ],
             [
              0.8888888888888888,
              "#fdca26"
             ],
             [
              1,
              "#f0f921"
             ]
            ],
            "type": "heatmap"
           }
          ],
          "heatmapgl": [
           {
            "colorbar": {
             "outlinewidth": 0,
             "ticks": ""
            },
            "colorscale": [
             [
              0,
              "#0d0887"
             ],
             [
              0.1111111111111111,
              "#46039f"
             ],
             [
              0.2222222222222222,
              "#7201a8"
             ],
             [
              0.3333333333333333,
              "#9c179e"
             ],
             [
              0.4444444444444444,
              "#bd3786"
             ],
             [
              0.5555555555555556,
              "#d8576b"
             ],
             [
              0.6666666666666666,
              "#ed7953"
             ],
             [
              0.7777777777777778,
              "#fb9f3a"
             ],
             [
              0.8888888888888888,
              "#fdca26"
             ],
             [
              1,
              "#f0f921"
             ]
            ],
            "type": "heatmapgl"
           }
          ],
          "histogram": [
           {
            "marker": {
             "pattern": {
              "fillmode": "overlay",
              "size": 10,
              "solidity": 0.2
             }
            },
            "type": "histogram"
           }
          ],
          "histogram2d": [
           {
            "colorbar": {
             "outlinewidth": 0,
             "ticks": ""
            },
            "colorscale": [
             [
              0,
              "#0d0887"
             ],
             [
              0.1111111111111111,
              "#46039f"
             ],
             [
              0.2222222222222222,
              "#7201a8"
             ],
             [
              0.3333333333333333,
              "#9c179e"
             ],
             [
              0.4444444444444444,
              "#bd3786"
             ],
             [
              0.5555555555555556,
              "#d8576b"
             ],
             [
              0.6666666666666666,
              "#ed7953"
             ],
             [
              0.7777777777777778,
              "#fb9f3a"
             ],
             [
              0.8888888888888888,
              "#fdca26"
             ],
             [
              1,
              "#f0f921"
             ]
            ],
            "type": "histogram2d"
           }
          ],
          "histogram2dcontour": [
           {
            "colorbar": {
             "outlinewidth": 0,
             "ticks": ""
            },
            "colorscale": [
             [
              0,
              "#0d0887"
             ],
             [
              0.1111111111111111,
              "#46039f"
             ],
             [
              0.2222222222222222,
              "#7201a8"
             ],
             [
              0.3333333333333333,
              "#9c179e"
             ],
             [
              0.4444444444444444,
              "#bd3786"
             ],
             [
              0.5555555555555556,
              "#d8576b"
             ],
             [
              0.6666666666666666,
              "#ed7953"
             ],
             [
              0.7777777777777778,
              "#fb9f3a"
             ],
             [
              0.8888888888888888,
              "#fdca26"
             ],
             [
              1,
              "#f0f921"
             ]
            ],
            "type": "histogram2dcontour"
           }
          ],
          "mesh3d": [
           {
            "colorbar": {
             "outlinewidth": 0,
             "ticks": ""
            },
            "type": "mesh3d"
           }
          ],
          "parcoords": [
           {
            "line": {
             "colorbar": {
              "outlinewidth": 0,
              "ticks": ""
             }
            },
            "type": "parcoords"
           }
          ],
          "pie": [
           {
            "automargin": true,
            "type": "pie"
           }
          ],
          "scatter": [
           {
            "fillpattern": {
             "fillmode": "overlay",
             "size": 10,
             "solidity": 0.2
            },
            "type": "scatter"
           }
          ],
          "scatter3d": [
           {
            "line": {
             "colorbar": {
              "outlinewidth": 0,
              "ticks": ""
             }
            },
            "marker": {
             "colorbar": {
              "outlinewidth": 0,
              "ticks": ""
             }
            },
            "type": "scatter3d"
           }
          ],
          "scattercarpet": [
           {
            "marker": {
             "colorbar": {
              "outlinewidth": 0,
              "ticks": ""
             }
            },
            "type": "scattercarpet"
           }
          ],
          "scattergeo": [
           {
            "marker": {
             "colorbar": {
              "outlinewidth": 0,
              "ticks": ""
             }
            },
            "type": "scattergeo"
           }
          ],
          "scattergl": [
           {
            "marker": {
             "colorbar": {
              "outlinewidth": 0,
              "ticks": ""
             }
            },
            "type": "scattergl"
           }
          ],
          "scattermapbox": [
           {
            "marker": {
             "colorbar": {
              "outlinewidth": 0,
              "ticks": ""
             }
            },
            "type": "scattermapbox"
           }
          ],
          "scatterpolar": [
           {
            "marker": {
             "colorbar": {
              "outlinewidth": 0,
              "ticks": ""
             }
            },
            "type": "scatterpolar"
           }
          ],
          "scatterpolargl": [
           {
            "marker": {
             "colorbar": {
              "outlinewidth": 0,
              "ticks": ""
             }
            },
            "type": "scatterpolargl"
           }
          ],
          "scatterternary": [
           {
            "marker": {
             "colorbar": {
              "outlinewidth": 0,
              "ticks": ""
             }
            },
            "type": "scatterternary"
           }
          ],
          "surface": [
           {
            "colorbar": {
             "outlinewidth": 0,
             "ticks": ""
            },
            "colorscale": [
             [
              0,
              "#0d0887"
             ],
             [
              0.1111111111111111,
              "#46039f"
             ],
             [
              0.2222222222222222,
              "#7201a8"
             ],
             [
              0.3333333333333333,
              "#9c179e"
             ],
             [
              0.4444444444444444,
              "#bd3786"
             ],
             [
              0.5555555555555556,
              "#d8576b"
             ],
             [
              0.6666666666666666,
              "#ed7953"
             ],
             [
              0.7777777777777778,
              "#fb9f3a"
             ],
             [
              0.8888888888888888,
              "#fdca26"
             ],
             [
              1,
              "#f0f921"
             ]
            ],
            "type": "surface"
           }
          ],
          "table": [
           {
            "cells": {
             "fill": {
              "color": "#EBF0F8"
             },
             "line": {
              "color": "white"
             }
            },
            "header": {
             "fill": {
              "color": "#C8D4E3"
             },
             "line": {
              "color": "white"
             }
            },
            "type": "table"
           }
          ]
         },
         "layout": {
          "annotationdefaults": {
           "arrowcolor": "#2a3f5f",
           "arrowhead": 0,
           "arrowwidth": 1
          },
          "autotypenumbers": "strict",
          "coloraxis": {
           "colorbar": {
            "outlinewidth": 0,
            "ticks": ""
           }
          },
          "colorscale": {
           "diverging": [
            [
             0,
             "#8e0152"
            ],
            [
             0.1,
             "#c51b7d"
            ],
            [
             0.2,
             "#de77ae"
            ],
            [
             0.3,
             "#f1b6da"
            ],
            [
             0.4,
             "#fde0ef"
            ],
            [
             0.5,
             "#f7f7f7"
            ],
            [
             0.6,
             "#e6f5d0"
            ],
            [
             0.7,
             "#b8e186"
            ],
            [
             0.8,
             "#7fbc41"
            ],
            [
             0.9,
             "#4d9221"
            ],
            [
             1,
             "#276419"
            ]
           ],
           "sequential": [
            [
             0,
             "#0d0887"
            ],
            [
             0.1111111111111111,
             "#46039f"
            ],
            [
             0.2222222222222222,
             "#7201a8"
            ],
            [
             0.3333333333333333,
             "#9c179e"
            ],
            [
             0.4444444444444444,
             "#bd3786"
            ],
            [
             0.5555555555555556,
             "#d8576b"
            ],
            [
             0.6666666666666666,
             "#ed7953"
            ],
            [
             0.7777777777777778,
             "#fb9f3a"
            ],
            [
             0.8888888888888888,
             "#fdca26"
            ],
            [
             1,
             "#f0f921"
            ]
           ],
           "sequentialminus": [
            [
             0,
             "#0d0887"
            ],
            [
             0.1111111111111111,
             "#46039f"
            ],
            [
             0.2222222222222222,
             "#7201a8"
            ],
            [
             0.3333333333333333,
             "#9c179e"
            ],
            [
             0.4444444444444444,
             "#bd3786"
            ],
            [
             0.5555555555555556,
             "#d8576b"
            ],
            [
             0.6666666666666666,
             "#ed7953"
            ],
            [
             0.7777777777777778,
             "#fb9f3a"
            ],
            [
             0.8888888888888888,
             "#fdca26"
            ],
            [
             1,
             "#f0f921"
            ]
           ]
          },
          "colorway": [
           "#636efa",
           "#EF553B",
           "#00cc96",
           "#ab63fa",
           "#FFA15A",
           "#19d3f3",
           "#FF6692",
           "#B6E880",
           "#FF97FF",
           "#FECB52"
          ],
          "font": {
           "color": "#2a3f5f"
          },
          "geo": {
           "bgcolor": "white",
           "lakecolor": "white",
           "landcolor": "#E5ECF6",
           "showlakes": true,
           "showland": true,
           "subunitcolor": "white"
          },
          "hoverlabel": {
           "align": "left"
          },
          "hovermode": "closest",
          "mapbox": {
           "style": "light"
          },
          "paper_bgcolor": "white",
          "plot_bgcolor": "#E5ECF6",
          "polar": {
           "angularaxis": {
            "gridcolor": "white",
            "linecolor": "white",
            "ticks": ""
           },
           "bgcolor": "#E5ECF6",
           "radialaxis": {
            "gridcolor": "white",
            "linecolor": "white",
            "ticks": ""
           }
          },
          "scene": {
           "xaxis": {
            "backgroundcolor": "#E5ECF6",
            "gridcolor": "white",
            "gridwidth": 2,
            "linecolor": "white",
            "showbackground": true,
            "ticks": "",
            "zerolinecolor": "white"
           },
           "yaxis": {
            "backgroundcolor": "#E5ECF6",
            "gridcolor": "white",
            "gridwidth": 2,
            "linecolor": "white",
            "showbackground": true,
            "ticks": "",
            "zerolinecolor": "white"
           },
           "zaxis": {
            "backgroundcolor": "#E5ECF6",
            "gridcolor": "white",
            "gridwidth": 2,
            "linecolor": "white",
            "showbackground": true,
            "ticks": "",
            "zerolinecolor": "white"
           }
          },
          "shapedefaults": {
           "line": {
            "color": "#2a3f5f"
           }
          },
          "ternary": {
           "aaxis": {
            "gridcolor": "white",
            "linecolor": "white",
            "ticks": ""
           },
           "baxis": {
            "gridcolor": "white",
            "linecolor": "white",
            "ticks": ""
           },
           "bgcolor": "#E5ECF6",
           "caxis": {
            "gridcolor": "white",
            "linecolor": "white",
            "ticks": ""
           }
          },
          "title": {
           "x": 0.05
          },
          "xaxis": {
           "automargin": true,
           "gridcolor": "white",
           "linecolor": "white",
           "ticks": "",
           "title": {
            "standoff": 15
           },
           "zerolinecolor": "white",
           "zerolinewidth": 2
          },
          "yaxis": {
           "automargin": true,
           "gridcolor": "white",
           "linecolor": "white",
           "ticks": "",
           "title": {
            "standoff": 15
           },
           "zerolinecolor": "white",
           "zerolinewidth": 2
          }
         }
        },
        "title": {
         "text": "AQI value Countries"
        }
       }
      }
     },
     "metadata": {},
     "output_type": "display_data"
    }
   ],
   "source": [
    "fig = px.scatter_geo(new_f_df,locations='Country',locationmode='country names'\n",
    "                     ,color='AQI Category',title=\"AQI value Countries\"\n",
    "                     )\n",
    "\n",
    "fig.update_geos(projection_type=\"natural earth\")\n",
    "fig.show()"
   ]
  },
  {
   "cell_type": "code",
   "execution_count": 14,
   "metadata": {},
   "outputs": [
    {
     "data": {
      "text/html": [
       "<div>\n",
       "<style scoped>\n",
       "    .dataframe tbody tr th:only-of-type {\n",
       "        vertical-align: middle;\n",
       "    }\n",
       "\n",
       "    .dataframe tbody tr th {\n",
       "        vertical-align: top;\n",
       "    }\n",
       "\n",
       "    .dataframe thead th {\n",
       "        text-align: right;\n",
       "    }\n",
       "</style>\n",
       "<table border=\"1\" class=\"dataframe\">\n",
       "  <thead>\n",
       "    <tr style=\"text-align: right;\">\n",
       "      <th></th>\n",
       "      <th>City</th>\n",
       "      <th>Country</th>\n",
       "    </tr>\n",
       "  </thead>\n",
       "  <tbody>\n",
       "    <tr>\n",
       "      <th>1</th>\n",
       "      <td>Korce</td>\n",
       "      <td>Albania</td>\n",
       "    </tr>\n",
       "    <tr>\n",
       "      <th>3</th>\n",
       "      <td>Andorra La Vella</td>\n",
       "      <td>Andorra</td>\n",
       "    </tr>\n",
       "    <tr>\n",
       "      <th>5</th>\n",
       "      <td>Rio Cuarto</td>\n",
       "      <td>Argentina</td>\n",
       "    </tr>\n",
       "    <tr>\n",
       "      <th>8</th>\n",
       "      <td>Geraldton</td>\n",
       "      <td>Australia</td>\n",
       "    </tr>\n",
       "    <tr>\n",
       "      <th>10</th>\n",
       "      <td>Quba</td>\n",
       "      <td>Azerbaijan</td>\n",
       "    </tr>\n",
       "    <tr>\n",
       "      <th>...</th>\n",
       "      <td>...</td>\n",
       "      <td>...</td>\n",
       "    </tr>\n",
       "    <tr>\n",
       "      <th>165</th>\n",
       "      <td>Kyaka</td>\n",
       "      <td>United Republic of Tanzania</td>\n",
       "    </tr>\n",
       "    <tr>\n",
       "      <th>167</th>\n",
       "      <td>Canelones</td>\n",
       "      <td>Uruguay</td>\n",
       "    </tr>\n",
       "    <tr>\n",
       "      <th>169</th>\n",
       "      <td>Vila</td>\n",
       "      <td>Vanuatu</td>\n",
       "    </tr>\n",
       "    <tr>\n",
       "      <th>173</th>\n",
       "      <td>Livingstone</td>\n",
       "      <td>Zambia</td>\n",
       "    </tr>\n",
       "    <tr>\n",
       "      <th>174</th>\n",
       "      <td>Chegutu</td>\n",
       "      <td>Zimbabwe</td>\n",
       "    </tr>\n",
       "  </tbody>\n",
       "</table>\n",
       "<p>67 rows × 2 columns</p>\n",
       "</div>"
      ],
      "text/plain": [
       "                 City                      Country\n",
       "1               Korce                      Albania\n",
       "3    Andorra La Vella                      Andorra\n",
       "5          Rio Cuarto                    Argentina\n",
       "8           Geraldton                    Australia\n",
       "10               Quba                   Azerbaijan\n",
       "..                ...                          ...\n",
       "165             Kyaka  United Republic of Tanzania\n",
       "167         Canelones                      Uruguay\n",
       "169              Vila                      Vanuatu\n",
       "173       Livingstone                       Zambia\n",
       "174           Chegutu                     Zimbabwe\n",
       "\n",
       "[67 rows x 2 columns]"
      ]
     },
     "execution_count": 14,
     "metadata": {},
     "output_type": "execute_result"
    }
   ],
   "source": [
    "#Cities with respective AQI Category\n",
    "good = new_f_df[new_f_df['AQI Category'].str.contains(\"Good\")].sort_values(['Country'])\n",
    "Moderate = new_f_df[new_f_df['AQI Category'].str.contains(\"Moderate\")].sort_values(['Country'])\n",
    "Poor = new_f_df[new_f_df['AQI Category'].str.startswith(\"Unhealthy for\")].sort_values(['Country'])\n",
    "unhealth = new_f_df[new_f_df['AQI Category'].str.endswith(\"Unhealthy\")].sort_values(['Country'])\n",
    "Hazardous = new_f_df[new_f_df['AQI Category'].str.contains(\"Hazardous\")].sort_values(['Country'])\n",
    "Very_unhealthy = new_f_df[new_f_df['AQI Category'].str.contains(\"Very Unhealthy\")].sort_values(['Country'])\n",
    "choose_category = good\n",
    "para = ['City', 'Country']\n",
    "arr = pd.DataFrame(choose_category[para])\n",
    "# print(choose_category['City'] + \"  \" + choose_category['Country'])\n",
    "arr\n"
   ]
  },
  {
   "cell_type": "code",
   "execution_count": null,
   "metadata": {},
   "outputs": [],
   "source": []
  }
 ],
 "metadata": {
  "kernelspec": {
   "display_name": "Python 3",
   "language": "python",
   "name": "python3"
  },
  "language_info": {
   "codemirror_mode": {
    "name": "ipython",
    "version": 3
   },
   "file_extension": ".py",
   "mimetype": "text/x-python",
   "name": "python",
   "nbconvert_exporter": "python",
   "pygments_lexer": "ipython3",
   "version": "3.10.1"
  },
  "orig_nbformat": 4
 },
 "nbformat": 4,
 "nbformat_minor": 2
}
